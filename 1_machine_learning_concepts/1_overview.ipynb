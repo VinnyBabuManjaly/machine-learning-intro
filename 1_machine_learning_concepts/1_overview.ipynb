{
 "cells": [
  {
   "cell_type": "markdown",
   "id": "0a44040e",
   "metadata": {},
   "source": [
    "### Artificial Intelligence (AI)\n",
    "**What it is**: AI is the broad field focused on creating machines that can perform tasks that would normally require human intelligence.\n",
    "\n",
    "**Analogy**: AI is like a school principal who oversees and manages all activities in the school. The principal doesn't necessarily do everything directly but ensures the whole system functions smartly.\n",
    "\n",
    "**Explanation**: AI covers any method or system designed to mimic human problem-solving, reasoning, language understanding, and decision-making.\n",
    "\n",
    "**Example**: Voice assistants (like Siri or Alexa), self-driving cars, and language translators are examples of AI systems."
   ]
  },
  {
   "cell_type": "markdown",
   "id": "901a3e16",
   "metadata": {},
   "source": [
    "### Machine Learning (ML)\n",
    "**What it is**: ML is a subset of AI in which machines learn from data and experience without being explicitly programmed with every detail.  \n",
    "\n",
    "**Analogy**: ML is like a student learning from textbooks, teachers, and practice. The student makes mistakes, learns patterns, and improves over time.  \n",
    "\n",
    "**Explanation**: Instead of hardcoding rules, ML algorithms find patterns in labeled data and use these to predict or classify new information. However, in traditional ML, humans often choose which features (like size, color, or shape) to focus on.  \n",
    "\n",
    "**Example**: Netflix recommending shows to users by learning preferences or email spam filters that learn to recognize unwanted messages.  "
   ]
  },
  {
   "cell_type": "markdown",
   "id": "12f74628",
   "metadata": {},
   "source": [
    "### Deep Learning (DL)\n",
    "**What it is**: DL is a specialized subset of ML that uses artificial neural networks with many layers (deep networks) to automatically extract features and learn from large amounts of complex, unstructured data.\n",
    "\n",
    "**Analogy**: DL is like a detective who carefully gathers clues, examines evidence step-by-step through multiple layers, and solves a complex case by piecing all details together.\n",
    "\n",
    "**Explanation**: Unlike traditional ML, DL models automatically discover which features are important, without manual human input. It requires large datasets and strong computing power to train these deep layered networks.\n",
    "\n",
    "**Example**: Facial recognition systems, self-driving car perception, and voice assistants understanding speech deeply."
   ]
  },
  {
   "cell_type": "markdown",
   "id": "8d553cf7",
   "metadata": {},
   "source": [
    "| Concept                  | Analogy         | How it Works                                     | Human Role                  | Example                                  |\n",
    "|--------------------------|-----------------|--------------------------------------------------|-----------------------------|------------------------------------------|\n",
    "| Artificial Intelligence (AI) | School Principal | Machines performing smart tasks broadly           | Oversees all methods        | Siri, Self-driving cars                  |\n",
    "| Machine Learning (ML)    | Student         | Learn patterns from data with manual feature selection | Teaches features to focus on | Netflix recommendations, spam filters    |\n",
    "| Deep Learning (DL)       | Detective       | Learns features automatically through many network layers | Minimal feature design      | Facial recognition, voice assistants     |\n"
   ]
  },
  {
   "cell_type": "code",
   "execution_count": null,
   "id": "bc019e4f",
   "metadata": {},
   "outputs": [],
   "source": [
    "# Sources:\n",
    "# [1](https://www.edge-ai-vision.com/2023/04/can-neural-networks-think-in-analogies/)\n",
    "# [2](https://www.skiplevel.co/blog/ai-machine-deep-learning)\n",
    "# [3](https://www.appypieagents.ai/blog/artificial-intelligence-vs-machine-learning-vs-deep-learning)\n",
    "# [4](https://enterprisersproject.com/article/2019/7/deep-learning-explained-plain-english)\n",
    "# [5](https://www.linkedin.com/pulse/understanding-core-concepts-ai-definitions-analogies-examples-bidari-9szuc)\n",
    "# [6](https://www.youtube.com/watch?v=qYNweeDHiyU)\n",
    "# [7](https://www.codecademy.com/resources/blog/difference-between-ai-machine-deep-learning-examples)"
   ]
  }
 ],
 "metadata": {
  "kernelspec": {
   "display_name": "base",
   "language": "python",
   "name": "python3"
  },
  "language_info": {
   "codemirror_mode": {
    "name": "ipython",
    "version": 3
   },
   "file_extension": ".py",
   "mimetype": "text/x-python",
   "name": "python",
   "nbconvert_exporter": "python",
   "pygments_lexer": "ipython3",
   "version": "3.13.5"
  }
 },
 "nbformat": 4,
 "nbformat_minor": 5
}
