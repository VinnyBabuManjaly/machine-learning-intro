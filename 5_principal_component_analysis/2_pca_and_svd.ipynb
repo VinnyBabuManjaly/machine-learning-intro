{
 "cells": [
  {
   "cell_type": "markdown",
   "id": "78684593",
   "metadata": {},
   "source": [
    "### PCA vs. k-means (Big Picture)\n",
    "- **PCA** finds patterns across your *columns* (features), capturing directions where the data varies the most by creating new orthogonal axes.\n",
    "- **k-means** finds patterns *in your rows* (samples), grouping similar observations together.\n",
    "- They're both **unsupervised learning** tools: they work without knowing target labels or outcomes."
   ]
  },
  {
   "cell_type": "markdown",
   "id": "30c08ad0",
   "metadata": {},
   "source": [
    "### Why Standardize and Center Data?\n",
    "- PCA is sensitive to how variables are scaled. If your columns (features) have different ranges/units, those with bigger spreads (e.g., incomes in dollars vs. age in years) will dominate the variance calculations.\n",
    "- **Standardization** ensures each feature: mean = 0, standard deviation = 1:\n",
    "  $$\n",
    "  Z = \\frac{X - \\mu}{\\sigma}\n",
    "  $$\n",
    "- **Centering** shifts the mean of each column to zero – this puts the \"balance point\" of the cloud at the origin.\n",
    "- **Why?** It guarantees all features contribute fairly to the principal components"
   ]
  },
  {
   "cell_type": "markdown",
   "id": "d3fa07f9",
   "metadata": {},
   "source": [
    "### Step-By-Step PCA Workflow\n",
    "\n",
    "**Step 1: Normalize the Data**"
   ]
  },
  {
   "cell_type": "code",
   "execution_count": 1,
   "id": "34718416",
   "metadata": {},
   "outputs": [],
   "source": [
    "import numpy as np\n",
    "import pandas as pd\n",
    "\n",
    "# Example: Load a dataset (California housing prices, ignoring target)\n",
    "from sklearn.preprocessing import StandardScaler\n",
    "from sklearn.datasets import fetch_california_housing\n",
    "\n",
    "X, _ = fetch_california_housing(return_X_y=True)\n",
    "X = pd.DataFrame(X)\n",
    "\n",
    "# Standardize (zero mean, unit variance)\n",
    "scaler = StandardScaler()\n",
    "X_norm = scaler.fit_transform(X)\n",
    "\n",
    "# OR (manual):\n",
    "mu = X.mean()\n",
    "sigma = X.std()\n",
    "X_norm_manual = (X - mu) / sigma\n"
   ]
  },
  {
   "cell_type": "markdown",
   "id": "f6102e03",
   "metadata": {},
   "source": [
    "**Step 2: Compute the Covariance Matrix**\n",
    "\n",
    "Covariance tells you how features vary together. The covariance matrix is square (features x features)."
   ]
  },
  {
   "cell_type": "code",
   "execution_count": 2,
   "id": "b8151f5e",
   "metadata": {},
   "outputs": [
    {
     "data": {
      "text/plain": [
       "array([[ 1.00004845, -0.11903976,  0.32691127, -0.06204314,  0.00483458,\n",
       "         0.01876716, -0.07981299, -0.0151766 ],\n",
       "       [-0.11903976,  1.00004845, -0.15328485, -0.07775105, -0.29625859,\n",
       "         0.013192  ,  0.01117321, -0.10820206],\n",
       "       [ 0.32691127, -0.15328485,  1.00004845,  0.84766239, -0.07221635,\n",
       "        -0.00485253,  0.10639412, -0.02754139],\n",
       "       [-0.06204314, -0.07775105,  0.84766239,  1.00004845, -0.06620061,\n",
       "        -0.0061815 ,  0.06972451,  0.01334504],\n",
       "       [ 0.00483458, -0.29625859, -0.07221635, -0.06620061,  1.00004845,\n",
       "         0.06986612, -0.10879002,  0.09977806],\n",
       "       [ 0.01876716,  0.013192  , -0.00485253, -0.0061815 ,  0.06986612,\n",
       "         1.00004845,  0.0023663 ,  0.00247594],\n",
       "       [-0.07981299,  0.01117321,  0.10639412,  0.06972451, -0.10879002,\n",
       "         0.0023663 ,  1.00004845, -0.92470924],\n",
       "       [-0.0151766 , -0.10820206, -0.02754139,  0.01334504,  0.09977806,\n",
       "         0.00247594, -0.92470924,  1.00004845]])"
      ]
     },
     "execution_count": 2,
     "metadata": {},
     "output_type": "execute_result"
    }
   ],
   "source": [
    "cov_matrix = np.cov(X_norm, rowvar=False)\n",
    "cov_matrix"
   ]
  },
  {
   "cell_type": "markdown",
   "id": "a4dd9e15",
   "metadata": {},
   "source": [
    "**Step 3: Calculate Eigenvalues and Eigenvectors OR Singular Value Decomposition (SVD)**\n",
    "\n",
    "Eigenvectors tell you the directions (principal components).\n",
    "\n",
    "Eigenvalues tell you the importance (how much variance) of each direction.\n",
    "\n",
    "SVD is a robust method, especially for numerical stability. Most modern PCA uses SVD under the hood."
   ]
  },
  {
   "cell_type": "code",
   "execution_count": 3,
   "id": "a1770ed9",
   "metadata": {},
   "outputs": [],
   "source": [
    "# Using numpy.linalg for eigen-decomposition\n",
    "eig_vals, eig_vecs = np.linalg.eigh(cov_matrix)\n",
    "\n",
    "# OR using SVD directly (recommended for PCA):\n",
    "from scipy.linalg import svd\n",
    "U, s, Vt = svd(X_norm, full_matrices=False)\n",
    "\n",
    "# s = singular values; Vt = components (rows=components, cols=features)\n",
    "\n",
    "# Interpretation:\n",
    "# Top principal components = rows of Vt, ordered by decreasing \"importance\" (singular values)."
   ]
  },
  {
   "cell_type": "markdown",
   "id": "0b66a6d0",
   "metadata": {},
   "source": [
    "**Step 4: Sort Components & Choose How Many to Keep**  \n",
    "\n",
    "Sort the eigenvalues (variance explained) and their eigenvectors to put the most important first.\n",
    "\n",
    "Usually, you keep just enough PCs to explain 80–95% of total variance "
   ]
  },
  {
   "cell_type": "markdown",
   "id": "5e2f1075",
   "metadata": {},
   "source": [
    "**Step 5: Project the Data Onto the Chosen Components**"
   ]
  },
  {
   "cell_type": "code",
   "execution_count": 4,
   "id": "9bbb4588",
   "metadata": {},
   "outputs": [],
   "source": [
    "# Project data onto the first K principal components\n",
    "K = 2  # example: first two PCs\n",
    "X_pca = np.dot(X_norm, Vt[:K].T)\n",
    "\n",
    "# Now, each sample is represented by K numbers (instead of the full D features)."
   ]
  },
  {
   "cell_type": "markdown",
   "id": "5f23cc68",
   "metadata": {},
   "source": [
    "**Checking Your SVD: Reconstruction**\n",
    "\n",
    "Can you re-create the original (normalized) data using U, S, Vt? Yes! (This is a perfect check)"
   ]
  },
  {
   "cell_type": "code",
   "execution_count": 5,
   "id": "339d4ff5",
   "metadata": {},
   "outputs": [
    {
     "data": {
      "text/plain": [
       "True"
      ]
     },
     "execution_count": 5,
     "metadata": {},
     "output_type": "execute_result"
    }
   ],
   "source": [
    "Sigma = np.diag(s)                 # SVD returns s as an array, make diagonal matrix\n",
    "X_reconstructed = U @ Sigma @ Vt   # @ is matrix multiplication\n",
    "np.allclose(X_norm, X_reconstructed)  # Should return True\n"
   ]
  },
  {
   "cell_type": "markdown",
   "id": "f62f6a29",
   "metadata": {},
   "source": [
    "How PCA Finds the Best Axes**\n",
    "- It finds new directions by maximizing spread (variance) of the data when projected onto those lines.\n",
    "- **First principal component:** The line/direction through the data cloud with the biggest variation.\n",
    "- **Second principal component:** Perpendicular to the first, captures the next highest variance, and so on.\n",
    "- Each **principal component** is a linear combination of all original features (think: weighted blends)."
   ]
  },
  {
   "cell_type": "markdown",
   "id": "89d52f11",
   "metadata": {},
   "source": [
    "Example with Highly Correlated Features**\n",
    "- Imagine two columns: Fahrenheit and Celsius. They're nearly identical after accounting for conversion. PCA will combine them into one component, ignoring redundant info, and maximize overall spread.\n",
    "- Throwing away any one column doesn't capture as much total variance as projecting onto the \"best fit\" line does."
   ]
  },
  {
   "cell_type": "markdown",
   "id": "802aabc4",
   "metadata": {},
   "source": [
    "Properties of Principal Components**\n",
    "- They are **uncorrelated** (orthogonal).\n",
    "- Each explains the maximal remaining variance.\n",
    "- Number of components ≤ number of original features.\n",
    "- Their coefficients (loadings) show how much each original feature contributes to the component."
   ]
  },
  {
   "cell_type": "markdown",
   "id": "7c17a390",
   "metadata": {},
   "source": [
    "How to Choose How Many Components to Keep**\n",
    "- **Scree plot:** Shows how much variance each component explains. Look for the \"elbow\" (flattening of the curve).\n",
    "- **Cumulative variance explained:** Keep enough components to capture a satisfactory percent (e.g., 90%).\n",
    "- **Eigenvalues > 1:** (for standardized data) is another common rule."
   ]
  },
  {
   "cell_type": "markdown",
   "id": "32d849de",
   "metadata": {},
   "source": [
    "Practical Notes & Pitfalls**\n",
    "- **PCA loses interpretability.** The components are not always easy to explain because they mix several features.\n",
    "- **Scaling is key!** Never skip normalization unless all features are already comparable.\n",
    "- **Works best for numeric data.** Do not apply PCA to categorical variables directly."
   ]
  },
  {
   "cell_type": "code",
   "execution_count": null,
   "id": "20ecbdaf",
   "metadata": {},
   "outputs": [
    {
     "name": "stdout",
     "output_type": "stream",
     "text": [
      "[0.25336868 0.23516245 0.15888635 0.12887971 0.12538195 0.0824225\n",
      " 0.01020022 0.00569814]\n"
     ]
    },
    {
     "data": {
      "image/png": "[encoded data removed]",
      "text/plain": [
       "<Figure size 640x480 with 1 Axes>"
      ]
     },
     "metadata": {},
     "output_type": "display_data"
    }
   ],
   "source": [
    "# Full PCA Example: Boston Housing Dataset\n",
    "\n",
    "from sklearn.decomposition import PCA\n",
    "\n",
    "# After standardizing, fitting \n",
    "# Creates a PCA object with default settings—a tool to learn how your features vary together.\n",
    "pca = PCA()\n",
    "# Analyzes the scaled data to calculate the principal components (directions capturing most \n",
    "# variance), and computes statistics like how much each component contributes.\n",
    "# PCA finds combinations of your input features (the principal components) that explain as \n",
    "# much variability in your data as possible.\n",
    "pca.fit(X_norm)\n",
    "\n",
    "# Variance explained by each PC\n",
    "print(pca.explained_variance_ratio_)\n",
    "\n",
    "# Project data onto K principal components\n",
    "K = 2\n",
    "X_pca = pca.transform(X_norm)[:, :K]\n",
    "\n",
    "# Scree plot (variance per component)\n",
    "import matplotlib.pyplot as plt\n",
    "plt.plot(np.arange(1, len(pca.explained_variance_ratio_) + 1), pca.explained_variance_ratio_, 'o-')\n",
    "plt.xlabel('Principal Component')\n",
    "plt.ylabel('Variance Explained')\n",
    "plt.show()\n"
   ]
  },
  {
   "cell_type": "code",
   "execution_count": 7,
   "id": "ca8a5895",
   "metadata": {},
   "outputs": [],
   "source": [
    "# Sources:\n",
    "\n",
    "# [1](https://builtin.com/data-science/step-step-explanation-principal-component-analysis)\n",
    "# [2](https://www.cs.cmu.edu/~elaw/papers/pca.pdf)\n",
    "# [3](https://www.youtube.com/watch?v=FgakZw6K1QQ)\n",
    "# [4](https://arxiv.org/abs/1404.1100)\n",
    "# [5](https://www.reddit.com/r/statistics/comments/2yp3tl/can_someone_please_explain_principal_component/)\n",
    "# [6](https://www.geeksforgeeks.org/data-analysis/principal-component-analysis-pca/)\n",
    "# [7](https://www.billconnelly.net/?p=697)\n",
    "# [8](https://statisticsbyjim.com/basics/principal-component-analysis/)\n",
    "# [9](https://www.reddit.com/r/engineering/comments/pze0f6/6_minutes_intro_to_pca_principal_component/)"
   ]
  }
 ],
 "metadata": {
  "kernelspec": {
   "display_name": "base",
   "language": "python",
   "name": "python3"
  },
  "language_info": {
   "codemirror_mode": {
    "name": "ipython",
    "version": 3
   },
   "file_extension": ".py",
   "mimetype": "text/x-python",
   "name": "python",
   "nbconvert_exporter": "python",
   "pygments_lexer": "ipython3",
   "version": "3.13.5"
  }
 },
 "nbformat": 4,
 "nbformat_minor": 5
}
