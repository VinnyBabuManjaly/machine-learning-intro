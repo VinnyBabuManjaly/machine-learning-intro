{
 "cells": [
  {
   "cell_type": "markdown",
   "id": "90c08a86",
   "metadata": {},
   "source": [
    "## Categorical Data Types\n",
    "\n",
    "Understanding data types is crucial for effective data analysis. Categorical data falls into two major types: nominal (no inherent order) and ordinal (ordered categories). "
   ]
  },
  {
   "cell_type": "markdown",
   "id": "71c88561",
   "metadata": {},
   "source": [
    "- **Quantitative Data**: Numeric and measurable. Can be discrete (countable) or continuous (measured within ranges).\n",
    "- **Qualitative Data**: Also called categorical. This includes data sorted into groups based on characteristics, not always expressible numerically."
   ]
  },
  {
   "cell_type": "markdown",
   "id": "371b839c",
   "metadata": {},
   "source": [
    "\n",
    "### Categorical Data: Nominal and Ordinal\n",
    "\n",
    "#### Nominal Data\n",
    "\n",
    "- **Definition**: Nominal data are labels or names assigned to variables. They represent categories that have no natural order or ranking.\n",
    "- **Key Traits**:\n",
    "  - Cannot be logically ordered\n",
    "  - Used for classification\n",
    "  - Examples: Gender (male, female, nonbinary), eye color (brown, blue, green), countries, animal species.\n",
    "  - Sometimes coded with numbers (e.g., 1=male, 2=female), but these numbers have no arithmetic meaning.\n",
    "- **Typical Usage**: Often collected in surveys or forms as free-form answers, radio buttons, or multiple-choice groups.\n",
    "- **Analysis**: Frequency counts, mode, visualization with pie charts and bar charts."
   ]
  },
  {
   "cell_type": "markdown",
   "id": "dfe50358",
   "metadata": {},
   "source": [
    "#### Ordinal Data\n",
    "\n",
    "- **Definition**: Ordinal data are categorical data that can be ranked or ordered. There are clear levels or hierarchy, but the intervals between categories are not statistically meaningful.\n",
    "- **Key Traits**:\n",
    "  - Categories have a logical order (e.g., low < medium < high)\n",
    "  - No quantifiable distance between categories\n",
    "  - Examples: Customer satisfaction (low, medium, high), education level (elementary, high school, college), race placement (1st, 2nd, 3rd).\n",
    "- **Typical Usage**: Commonly used in ratings, rankings, feedback forms, bug severity levels (e.g., minor, major, critical).\n",
    "- **Analysis**: Median, percentiles, ranking tests, ordinal regression, visuals with ordered bar charts."
   ]
  },
  {
   "cell_type": "markdown",
   "id": "0a0ef1ed",
   "metadata": {},
   "source": [
    "#### Comparing Nominal and Ordinal Data\n",
    "\n",
    "| Feature           | Nominal Data                     | Ordinal Data                                    |\n",
    "|-------------------|----------------------------------|--------------------------------------------------|\n",
    "| Order             | No inherent order                | Ordered/ranked categories                        |\n",
    "| Numeric Meaning   | None                             | None (but can be assigned for convenient coding) |\n",
    "| Analysis Method   | Frequency, mode                  | Ranking, median, non-parametric tests            |\n",
    "| Example           | Gender, colors, types of fruits  | Grades, satisfaction level, economic status      |\n",
    "| Visualization     | Bar chart, pie chart             | Ordered bar chart, median ranking charts         |"
   ]
  },
  {
   "cell_type": "markdown",
   "id": "e95306f7",
   "metadata": {},
   "source": [
    "\n",
    "### Additional Points\n",
    "\n",
    "- **Both nominal and ordinal data are non-parametric**: They do not fit normal distributions and often require specialized statistical tests for analysis.\n",
    "- **Ordinal data sometimes assigned numeric codes**: These should only be used for ordering, not arithmetic calculations.\n",
    "- **Survey Insights**:\n",
    "  - Nominal questions allow respondents to express unique, unranked categories.\n",
    "  - Ordinal questions restrict responses to predefined ordered options, enabling concise and targeted analysis.\n",
    "- **Graphical Analysis**: Pie and bar charts for both; ordered ordinal charts emphasize ranking."
   ]
  },
  {
   "cell_type": "markdown",
   "id": "77f5417e",
   "metadata": {},
   "source": [
    "\n",
    "### Summary\n",
    "\n",
    "Nominal and ordinal data are foundational for exploratory data analysis, helping data scientists understand, classify, and organize information. Nominal data focuses on pure categories with no order, whereas ordinal data involves a meaningful order but undefined interval spacing. Recognizing the difference safeguards against incorrect conclusions and ensures the right statistical approach in machine learning projects."
   ]
  },
  {
   "cell_type": "markdown",
   "id": "eb75ad30",
   "metadata": {},
   "source": [
    "Sources:\n",
    "\n",
    "[1](https://stats.oarc.ucla.edu/other/mult-pkg/whatstat/what-is-the-difference-between-categorical-ordinal-and-interval-variables/)\n",
    "[2](https://www.formpl.us/blog/nominal-ordinal-data)\n",
    "[3](https://www.dummies.com/article/academics-the-arts/math/statistics/types-of-statistical-data-numerical-categorical-and-ordinal-169735/)\n",
    "[4](https://builtin.com/articles/ordinal-data)\n",
    "[5](https://www.geeksforgeeks.org/data-science/nominal-vs-ordinal-data/)\n",
    "[6](https://www.scribbr.com/statistics/levels-of-measurement/)\n",
    "[7](https://panintelligence.com/blog/types-of-data/)\n",
    "[8](https://www.freecodecamp.org/news/types-of-data-in-statistics-nominal-ordinal-interval-and-ratio-data-types-explained-with-examples/)"
   ]
  }
 ],
 "metadata": {
  "language_info": {
   "name": "python"
  }
 },
 "nbformat": 4,
 "nbformat_minor": 5
}
