{
 "cells": [
  {
   "cell_type": "markdown",
   "id": "4a99c9ea",
   "metadata": {},
   "source": [
    "## Multivariate distributions\n",
    "\n",
    "Multivariate distributions describe the relationships and joint behavior among two or more random variables, extending the concepts of univariate distributions to higher dimensions. This is essential for modeling complex real-world phenomena where variables interact, such as height and weight in biological studies or multiple financial returns in economics."
   ]
  },
  {
   "cell_type": "markdown",
   "id": "bf50ae11",
   "metadata": {},
   "source": [
    "A **multivariate random variable** is essentially a vector where each element represents a different random variable, and together they form a single observation or sample. For example, recording a penguin’s beak length and beak depth at once gives a bivariate—i.e., two-dimensional—random variable, and collectively observing hundreds of penguins yields a multivariate dataset.\n",
    "\n",
    "- Each random variable has its own mean and variance.\n",
    "- The joint probability distribution encodes how all variables behave together.\n",
    "- When variables are independent, the joint distribution is just the product of their individual distributions. Most real-world data show dependencies, requiring proper multivariate distributions."
   ]
  },
  {
   "cell_type": "markdown",
   "id": "3cdbb764",
   "metadata": {},
   "source": [
    "### Key Properties\n",
    "\n",
    "##### Marginal and conditional distributions\n",
    "\n",
    "Marginal and conditional distributions are ways to describe how individual variables behave within a multivariate (joint) probability distribution. They are essential for analyzing complex datasets with multiple variables.\n",
    "\n",
    "- A **marginal distribution** gives the probability distribution of one variable, ignoring the others in the joint distribution. It answers: “If only one variable is of interest, what’s its probability pattern?”\n",
    "\n",
    "- For discrete variables with joint probability \\(P(X = x, Y = y)\\), the marginal distribution for \\(X\\). This means summing the joint probabilities over all possible values of \\(Y\\). \n",
    "\n",
    "$$\n",
    "P(X = x) = \\sum_y P(X = x, Y = y)\n",
    "$$\n",
    " \n",
    "\n",
    "- For continuous variables with joint density \\(f(x, y)\\). Integrate over all values of Y to get the marginal density for X.\n",
    "\n",
    "$$\n",
    "f_X(x) = \\int_{-\\infty}^{\\infty} f(x, y) \\, dy\n",
    "$$\n",
    "\n",
    "- Marginal distributions help summarize the overall distribution of a single variable, making complex joint data more interpretable.\n",
    "\n",
    "- A **conditional distribution** describes the probability of one variable, given that another variable has a specific value. It answers: “What is the distribution of X if Y is already known to be y?”\n",
    "\n",
    "- For discrete variables:\n",
    "\n",
    "$$\n",
    "P(X = x \\mid Y = y) = \\frac{P(X = x, Y = y)}{P(Y = y)}\n",
    "$$\n",
    "\n",
    "- For continuous variables, where \\(f_Y(y)\\) is the marginal density of \\(Y\\).\n",
    "\n",
    "$$\n",
    "f_{X \\mid Y}(x \\mid y) = \\frac{f(x, y)}{f_Y(y)}\n",
    "$$\n",
    "  \n",
    "\n",
    "- Conditional distributions reveal dependencies between variables and are crucial for predictive modeling, interpretation, and statistical inference."
   ]
  },
  {
   "cell_type": "markdown",
   "id": "428c5f28",
   "metadata": {},
   "source": [
    "**Independence of Random Variables**\n",
    "\n",
    "- Two random variables \\(X\\) and \\(Y\\) are independent if knowing one does not affect the other.  \n",
    "\n",
    "- Conditional distributions equal the marginal distribution for all values:\n",
    "\n",
    "$$\n",
    "p_{Y|X=x} = p_Y \\quad \\text{for all } x\n",
    "$$\n",
    "\n",
    "- Independence means the joint distribution factorizes into marginal distributions:\n",
    "\n",
    "$$\n",
    "p_{XY} = p_X \\, p_Y\n",
    "$$"
   ]
  },
  {
   "cell_type": "markdown",
   "id": "d10b7696",
   "metadata": {},
   "source": [
    "##### Mean vector, covariance, and correlation \n",
    "\n",
    "The mean vector, covariance, and correlation are foundational concepts for understanding multivariate data.\n",
    "\n",
    "**Mean Vector**  \n",
    "\n",
    "The mean vector gives the average value for each variable in the dataset.\n",
    "\n",
    "If you have several variables (say, height, weight, and age), the mean vector just lists each variable’s mean."
   ]
  },
  {
   "cell_type": "code",
   "execution_count": 14,
   "id": "c045908a",
   "metadata": {},
   "outputs": [
    {
     "name": "stdout",
     "output_type": "stream",
     "text": [
      "[170.          70.          31.66666667]\n"
     ]
    }
   ],
   "source": [
    "import numpy as np\n",
    "\n",
    "# Each row is a sample, columns: height, weight, age\n",
    "X = np.array([\n",
    "    [160, 60, 30],\n",
    "    [170, 70, 25],\n",
    "    [180, 80, 40]\n",
    "])\n",
    "\n",
    "mean_vector = np.mean(X, axis=0)\n",
    "print(mean_vector)\n",
    "# Output: [170. 70. 31.7]\n",
    "\n",
    "# Each entry is the mean of that column: 170 cm for height, 70 kg for weight, 31.7 years for age."
   ]
  },
  {
   "cell_type": "markdown",
   "id": "9b756a98",
   "metadata": {},
   "source": [
    "**Covariance** \n",
    "\n",
    "Covariance measures how two variables change together.\n",
    "\n",
    "- The covariance matrix (often written as Σ) generalizes variance.  \n",
    "  - Diagonal entries are variances.  \n",
    "  - Off-diagonal entries are covariances, reflecting pairwise dependencies.  \n",
    "\n",
    "$$\n",
    "\\text{Cov}(X, Y) =\\sigma_{XY} = E \\big[ (X - \\mu_X)(Y - \\mu_Y) \\big]\n",
    "$$\n",
    "\n",
    "- A positive covariance: when one increases, the other tends to increase.\n",
    "- A negative covariance: when one increases, the other tends to decrease.\n",
    "- Zero covariance: no linear relationship.  \n",
    "- The covariance matrix is symmetric. "
   ]
  },
  {
   "cell_type": "code",
   "execution_count": 23,
   "id": "867d9d1f",
   "metadata": {},
   "outputs": [
    {
     "data": {
      "text/plain": [
       "array([[100.        , 100.        ,  50.        ],\n",
       "       [100.        , 100.        ,  50.        ],\n",
       "       [ 50.        ,  50.        ,  58.33333333]])"
      ]
     },
     "execution_count": 23,
     "metadata": {},
     "output_type": "execute_result"
    }
   ],
   "source": [
    "# Covariance Formula in Python:\n",
    "np.cov(X, rowvar=False)\n",
    "\n",
    "# The diagonal elements show the variance of each variable.\n",
    "# Off-diagonal elements show the covariance between pairs."
   ]
  },
  {
   "cell_type": "code",
   "execution_count": 16,
   "id": "31dd3ac6",
   "metadata": {},
   "outputs": [
    {
     "name": "stdout",
     "output_type": "stream",
     "text": [
      "100.0\n"
     ]
    }
   ],
   "source": [
    "# Covariance of height and weight\n",
    "height = X[:,0]\n",
    "weight = X[:,1]\n",
    "cov_hw = np.cov(height, weight)[0,1]\n",
    "print(cov_hw)\n",
    "\n",
    "# This shows how height and weight “move” together in the dataset."
   ]
  },
  {
   "cell_type": "markdown",
   "id": "dcc762d6",
   "metadata": {},
   "source": [
    "**Correlation**  \n",
    "\n",
    "Correlation standardizes covariance to a range from -1 to 1.\n",
    "\n",
    "- Correlation normalizes covariance by dividing by the standard deviations of both variables, giving a value between -1 and 1.  \n",
    "- This makes it more interpretable. \n",
    "\n",
    "$$\n",
    "\\rho(X, Y) = \\frac{\\text{Cov}(X, Y)}{\\sigma_X \\, \\sigma_Y}\n",
    "$$\n",
    "\n",
    "$$\n",
    "\\rho(X, Y) = \\frac{\\sigma_{XY}}{(\\sigma_{X} \\sigma_{Y})}\n",
    "$$\n",
    "\n",
    "\n",
    "    - **ρ = 1:** perfect positive linear relationship  \n",
    "    - **ρ = 0:** no linear relationship  \n",
    "    - **ρ = -1:** perfect negative linear relationship  "
   ]
  },
  {
   "cell_type": "markdown",
   "id": "a7f3a429",
   "metadata": {},
   "source": [
    "\n",
    "- A correlation matrix is a square table showing the correlation coefficients (ρ) between pairs of variables.  \n",
    "- The diagonal entries are always 1 because each variable is perfectly correlated with itself.  \n",
    "- $ρ_ij$ is obtained by dividing the covariance between variables $X_i$ and $X_j$ by the product of their standard deviations.  \n",
    "- Correlation captures only linear tendencies.  \n",
    "- Variables can be uncorrelated but still predict each other (e.g., sine-wave dependencies).  \n"
   ]
  },
  {
   "cell_type": "code",
   "execution_count": 17,
   "id": "a30e3f24",
   "metadata": {},
   "outputs": [
    {
     "name": "stdout",
     "output_type": "stream",
     "text": [
      "[[1.         1.         0.65465367]\n",
      " [1.         1.         0.65465367]\n",
      " [0.65465367 0.65465367 1.        ]]\n"
     ]
    }
   ],
   "source": [
    "# Correlation Formula in Python:\n",
    "corr_matrix = np.corrcoef(X, rowvar=False)\n",
    "print(corr_matrix)\n",
    "\n",
    "# corr_matrix[0,1] gives correlation between height and weight.\n",
    "# Correlation is easier to interpret than covariance because of this -1 to 1 range."
   ]
  },
  {
   "cell_type": "markdown",
   "id": "448ec5bf",
   "metadata": {},
   "source": [
    "| Concept       | Python (NumPy/Pandas)                 | What it Shows                                |\n",
    "|---------------|---------------------------------------|----------------------------------------------|\n",
    "| Mean vector   | np.mean(X, axis=0) / df.mean()        | Average of each variable                     |\n",
    "| Covariance    | np.cov(X, rowvar=False) / df.cov()    | Spread, and pair relationships between variables |\n",
    "| Correlation   | np.corrcoef(X, rowvar=False) / df.corr() | Linear relationships, ranges -1 to 1        |\n"
   ]
  },
  {
   "cell_type": "code",
   "execution_count": 18,
   "id": "3c20462b",
   "metadata": {},
   "outputs": [],
   "source": [
    "# Example using Pandas:\n",
    "\n",
    "import pandas as pd\n",
    "\n",
    "data = pd.DataFrame({\"length\": [47, 48], \"depth\": [15, 15.5]})\n",
    "mean_vector = data.mean()\n",
    "cov_matrix = data.cov()\n",
    "corr_matrix = data.corr()\n"
   ]
  },
  {
   "cell_type": "code",
   "execution_count": 19,
   "id": "5af4b164",
   "metadata": {},
   "outputs": [
    {
     "data": {
      "text/plain": [
       "length    47.50\n",
       "depth     15.25\n",
       "dtype: float64"
      ]
     },
     "execution_count": 19,
     "metadata": {},
     "output_type": "execute_result"
    }
   ],
   "source": [
    "mean_vector"
   ]
  },
  {
   "cell_type": "code",
   "execution_count": 20,
   "id": "3d651688",
   "metadata": {},
   "outputs": [
    {
     "data": {
      "text/html": [
       "<div>\n",
       "<style scoped>\n",
       "    .dataframe tbody tr th:only-of-type {\n",
       "        vertical-align: middle;\n",
       "    }\n",
       "\n",
       "    .dataframe tbody tr th {\n",
       "        vertical-align: top;\n",
       "    }\n",
       "\n",
       "    .dataframe thead th {\n",
       "        text-align: right;\n",
       "    }\n",
       "</style>\n",
       "<table border=\"1\" class=\"dataframe\">\n",
       "  <thead>\n",
       "    <tr style=\"text-align: right;\">\n",
       "      <th></th>\n",
       "      <th>length</th>\n",
       "      <th>depth</th>\n",
       "    </tr>\n",
       "  </thead>\n",
       "  <tbody>\n",
       "    <tr>\n",
       "      <th>length</th>\n",
       "      <td>0.50</td>\n",
       "      <td>0.250</td>\n",
       "    </tr>\n",
       "    <tr>\n",
       "      <th>depth</th>\n",
       "      <td>0.25</td>\n",
       "      <td>0.125</td>\n",
       "    </tr>\n",
       "  </tbody>\n",
       "</table>\n",
       "</div>"
      ],
      "text/plain": [
       "        length  depth\n",
       "length    0.50  0.250\n",
       "depth     0.25  0.125"
      ]
     },
     "execution_count": 20,
     "metadata": {},
     "output_type": "execute_result"
    }
   ],
   "source": [
    "cov_matrix"
   ]
  },
  {
   "cell_type": "code",
   "execution_count": 21,
   "id": "26c385bd",
   "metadata": {},
   "outputs": [
    {
     "data": {
      "text/html": [
       "<div>\n",
       "<style scoped>\n",
       "    .dataframe tbody tr th:only-of-type {\n",
       "        vertical-align: middle;\n",
       "    }\n",
       "\n",
       "    .dataframe tbody tr th {\n",
       "        vertical-align: top;\n",
       "    }\n",
       "\n",
       "    .dataframe thead th {\n",
       "        text-align: right;\n",
       "    }\n",
       "</style>\n",
       "<table border=\"1\" class=\"dataframe\">\n",
       "  <thead>\n",
       "    <tr style=\"text-align: right;\">\n",
       "      <th></th>\n",
       "      <th>length</th>\n",
       "      <th>depth</th>\n",
       "    </tr>\n",
       "  </thead>\n",
       "  <tbody>\n",
       "    <tr>\n",
       "      <th>length</th>\n",
       "      <td>1.0</td>\n",
       "      <td>1.0</td>\n",
       "    </tr>\n",
       "    <tr>\n",
       "      <th>depth</th>\n",
       "      <td>1.0</td>\n",
       "      <td>1.0</td>\n",
       "    </tr>\n",
       "  </tbody>\n",
       "</table>\n",
       "</div>"
      ],
      "text/plain": [
       "        length  depth\n",
       "length     1.0    1.0\n",
       "depth      1.0    1.0"
      ]
     },
     "execution_count": 21,
     "metadata": {},
     "output_type": "execute_result"
    }
   ],
   "source": [
    "corr_matrix"
   ]
  },
  {
   "cell_type": "code",
   "execution_count": 25,
   "id": "5eb83235",
   "metadata": {},
   "outputs": [
    {
     "data": {
      "text/plain": [
       "<seaborn.axisgrid.PairGrid at 0x7a0d8c8c9a90>"
      ]
     },
     "execution_count": 25,
     "metadata": {},
     "output_type": "execute_result"
    },
    {
     "data": {
      "image/png": "[encoded data removed]",
      "text/plain": [
       "<Figure size 500x500 with 6 Axes>"
      ]
     },
     "metadata": {},
     "output_type": "display_data"
    }
   ],
   "source": [
    "# Correlation matrix plot using Seaborn\n",
    "import seaborn as sns\n",
    "sns.pairplot(data)"
   ]
  },
  {
   "cell_type": "code",
   "execution_count": 26,
   "id": "e2b99d32",
   "metadata": {},
   "outputs": [
    {
     "data": {
      "text/plain": [
       "<Axes: >"
      ]
     },
     "execution_count": 26,
     "metadata": {},
     "output_type": "execute_result"
    },
    {
     "data": {
      "image/png": "[encoded data removed]",
      "text/plain": [
       "<Figure size 640x480 with 2 Axes>"
      ]
     },
     "metadata": {},
     "output_type": "display_data"
    }
   ],
   "source": [
    "sns.heatmap(data.corr(), annot=True)"
   ]
  },
  {
   "cell_type": "code",
   "execution_count": 28,
   "id": "c7781243",
   "metadata": {},
   "outputs": [
    {
     "data": {
      "image/png": "[encoded data removed]",
      "text/plain": [
       "<Figure size 640x480 with 1 Axes>"
      ]
     },
     "metadata": {},
     "output_type": "display_data"
    }
   ],
   "source": [
    "import seaborn as sns\n",
    "import matplotlib.pyplot as plt\n",
    "\n",
    "# Sample data\n",
    "tips = sns.load_dataset(\"tips\")  # built-in dataset in Seaborn\n",
    "\n",
    "# Plot histogram with hue by 'sex' column\n",
    "sns.histplot(data=tips, x=\"total_bill\", hue=\"sex\", multiple=\"stack\")\n",
    "\n",
    "plt.title(\"Total Bill Distribution by Sex\")\n",
    "plt.show()\n",
    "\n"
   ]
  },
  {
   "cell_type": "markdown",
   "id": "850d1b3f",
   "metadata": {},
   "source": [
    "**Popular Multivariate Distributions**\n",
    "\n",
    "- Multivariate Normal Distribution: The most famous, fully described by its mean vector and covariance matrix. Marginal and conditional distributions are also normal; widely used in statistics and ML.\n",
    "\n",
    "- Others: multivariate binomial, lognormal, multinomial (note: multinomial is for categories drawn multiple times, while multivariate means multiple random variables measured together)."
   ]
  },
  {
   "cell_type": "code",
   "execution_count": null,
   "id": "020a6fee",
   "metadata": {},
   "outputs": [],
   "source": [
    "# Sources:\n",
    "# [1](https://www.statsref.com/HTML/multivariate_distributions.html)\n",
    "# [2](https://www.machinelearningmastery.com/machine-learning-in-python-step-by-step/)\n",
    "# [3](https://www.sciencedirect.com/topics/mathematics/multivariate-distribution)\n",
    "# [4](https://www.tnstate.edu/faculty/fyao/COMP3050/Py-tutorial.pdf)\n",
    "# [5](https://otexts.com/weird/03-multivariate.html)\n",
    "# [6](https://wiki.python.org/moin/BeginnersGuide)\n",
    "# [7](https://www.statisticshowto.com/multivariate-distribution/)\n",
    "# [8](https://docs.python.org/3/tutorial/index.html)\n",
    "# [9](https://www.stat.uchicago.edu/~stigler/Stat244/ch3withfigs.pdf)\n",
    "# [10](https://bugs.python.org/file47781/Tutorial_EDIT.pdf)\n",
    "# [11](https://fiveable.me/probability-and-statistics/unit-5/marginal-distributions/study-guide/z9IDymP1ut2ECg7c)\n",
    "# [12](https://library.fiveable.me/theoretical-statistics/unit-4/marginal-distributions/study-guide/J2lnFjo080wxNURz)\n",
    "# [13](https://en.wikipedia.org/wiki/Marginal_distribution)\n",
    "# [14](https://www.geeksforgeeks.org/maths/marginal-distribution/)\n",
    "# [15](https://www.statlect.com/probability-distributions/multivariate-normal-distribution-partitioning)\n",
    "# [16](https://en.wikipedia.org/wiki/Multivariate_normal_distribution)\n",
    "# [17](https://www.statisticshowto.com/probability-and-statistics/statistics-definitions/marginal-distribution/)\n",
    "# [18](https://www.sciencedirect.com/topics/computer-science/marginal-distribution)\n",
    "# [19](https://www.stat.uchicago.edu/~stigler/Stat244/ch3withfigs.pdf)\n",
    "# [20](https://www.khanacademy.org/math/ap-statistics/analyzing-categorical-ap/distributions-two-way-tables/v/marginal-distribution-and-conditional-distribution)\n",
    "# [21](https://www.itl.nist.gov/div898/handbook/pmc/section5/pmc541.htm)\n",
    "# [22](https://www.universalclass.com/articles/math/statistics/multivariate-data.htm)\n",
    "# [23](https://real-statistics.com/multivariate-statistics/descriptive-multivariate-statistics/)\n",
    "# [24](https://rich-d-wilkinson.github.io/MATH3030/1.5-exercises.html)\n",
    "# [25](http://homepage.divms.uiowa.edu/~dzimmer/multivariate/notes161.pdf)\n",
    "# [26](https://online.stat.psu.edu/stat505/book/export/html/637)\n",
    "# [27](https://www.sas.com/storefront/aux/en/spmultdatared/56902_excerpt.pdf)\n",
    "# [28](https://www.youtube.com/watch?v=Kj3zuZzQmEg)\n",
    "# [29](https://halweb.uc3m.es/esp/Personal/personas/pgaleano/esp/2017-2018/EstadisticaMultivariante_archivos/MultivariateDistributionsAndInference.pdf)\n",
    "# [30](https://online.stat.psu.edu/stat505/lesson/5)\n",
    "# [31](https://www.geeksforgeeks.org/data-science/create-a-correlation-matrix-using-python/)\n",
    "# [32](https://builtin.com/data-science/correlation-matrix)\n",
    "# [33](https://realpython.com/numpy-scipy-pandas-correlation-python/)\n",
    "# [34](https://www.statology.org/correlation-matrix-python/)\n",
    "# [35](https://www.w3schools.com/datascience/ds_stat_correlation_matrix.asp)\n",
    "# [36](https://www.sfu.ca/~mjbrydon/tutorials/BAinPy/08_correlation.html)\n",
    "# [37](https://data36.com/correlation-definition-calculation-corr-pandas/)\n",
    "# [38](https://mtab.com/blog/what-is-a-correlation-matrix)\n",
    "# [39](https://www.youtube.com/watch?v=f8NlU2xKs48)"
   ]
  }
 ],
 "metadata": {
  "kernelspec": {
   "display_name": "base",
   "language": "python",
   "name": "python3"
  },
  "language_info": {
   "codemirror_mode": {
    "name": "ipython",
    "version": 3
   },
   "file_extension": ".py",
   "mimetype": "text/x-python",
   "name": "python",
   "nbconvert_exporter": "python",
   "pygments_lexer": "ipython3",
   "version": "3.13.5"
  }
 },
 "nbformat": 4,
 "nbformat_minor": 5
}
