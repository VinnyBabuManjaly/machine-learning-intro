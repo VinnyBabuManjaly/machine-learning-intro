{
 "cells": [
  {
   "cell_type": "markdown",
   "id": "ef0ebacd",
   "metadata": {},
   "source": [
    "## Outliers\n",
    "\n",
    "Outliers are data points that are significantly different from the rest of the dataset. They lie far away from the \"typical\" range of data points and can distort statistical analysis, leading to misleading results.\n",
    "\n",
    "- Reasons for outliers: measurement errors, experimental variability, natural data variation.\n",
    "\n",
    "- Outliers can badly affect the accuracy and reliability of machine learning models and statistical conclusions.\n",
    "\n",
    "- Hence, identifying and handling outliers is a crucial preprocessing step in data analysis and ML pipelines."
   ]
  },
  {
   "cell_type": "markdown",
   "id": "96c96f31",
   "metadata": {},
   "source": [
    "#### Identifying Outliers\n",
    "\n",
    "**Visual Inspection**\n",
    "\n",
    "- Use plots—histograms, scatter plots, and especially box plots.\n",
    "\n",
    "- Outliers appear as points isolated from the bulk of data (like dots outside the whiskers of a box plot)."
   ]
  },
  {
   "cell_type": "code",
   "execution_count": 3,
   "id": "e43f549b",
   "metadata": {},
   "outputs": [
    {
     "data": {
      "image/png": "[encoded data removed]",
      "text/plain": [
       "<Figure size 640x480 with 1 Axes>"
      ]
     },
     "metadata": {},
     "output_type": "display_data"
    }
   ],
   "source": [
    "# Visualizing Outliers with Box Plot\n",
    "\n",
    "import matplotlib.pyplot as plt\n",
    "import numpy as np\n",
    "\n",
    "data = np.array([5, 2, 4.5, 4, 3, 2, 6, 20, 9, 2.5, 3.5, 4.75, 6.5, 2.5, 8, 1])\n",
    "\n",
    "plt.boxplot(data)\n",
    "plt.title(\"Box Plot - Outlier Detection\")\n",
    "plt.show()\n",
    "\n",
    "# Outliers appear as points outside the whiskers."
   ]
  },
  {
   "cell_type": "markdown",
   "id": "7e89cb6f",
   "metadata": {},
   "source": [
    "**Statistical Methods**\n",
    "\n",
    "1.**Z-Score**\n",
    "Measures how many standard deviations a data point is from the mean.  \n",
    "\n",
    "$$\n",
    "Z = \\frac{X - \\mu}{\\sigma}\n",
    "$$\n",
    "\n",
    "where:  \n",
    "- $X$ = data point  \n",
    "- $\\mu$ = mean  \n",
    "- $\\sigma$ = standard deviation  \n",
    "\n",
    "\n",
    "Common rule: \\(|Z| > 3\\) is considered an outlier.   \n",
    "Assumes data is roughly normally distributed.  \n"
   ]
  },
  {
   "cell_type": "code",
   "execution_count": 1,
   "id": "543ee724",
   "metadata": {},
   "outputs": [
    {
     "name": "stdout",
     "output_type": "stream",
     "text": [
      "Outliers (Z-score method): [20.]\n"
     ]
    }
   ],
   "source": [
    "# Using Z-Score to Detect Outliers\n",
    "\n",
    "import numpy as np\n",
    "from scipy import stats\n",
    "\n",
    "data = np.array([5, 2, 4.5, 4, 3, 2, 6, 20, 9, 2.5, 3.5, 4.75, 6.5, 2.5, 8, 1])\n",
    "\n",
    "# Calculate Z-scores\n",
    "z_scores = np.abs(stats.zscore(data))\n",
    "\n",
    "# Set threshold, e.g., 3\n",
    "threshold = 3\n",
    "\n",
    "# Identify outliers\n",
    "outliers = data[z_scores > threshold]\n",
    "print(\"Outliers (Z-score method):\", outliers)\n",
    "\n",
    "# Expected output: Points far from mean, for example 20 in the data above."
   ]
  },
  {
   "cell_type": "markdown",
   "id": "3d2d54d9",
   "metadata": {},
   "source": [
    "2.**Interquartile Range (IQR)**\n",
    "Represents the spread of the middle 50% of data.  \n",
    "\n",
    "$$\n",
    "IQR = Q_3 - Q_1\n",
    "$$\n",
    "\n",
    "where:  \n",
    "- $Q_1$ = 25th percentile  \n",
    "- $Q_3$ = 75th percentile  \n",
    "\n",
    "Outliers are data points below $Q_1 - 1.5 \\times IQR$ or above $Q_3 + 1.5 \\times IQR$.  \n",
    "More robust to outliers than Z-score since it uses median and percentiles.  "
   ]
  },
  {
   "cell_type": "markdown",
   "id": "63924db6",
   "metadata": {},
   "source": [
    "**Quartiles**\n",
    "\n",
    "Quartiles break the data into four equal parts (25% each). They split data at:\n",
    "\n",
    "- Q1(First quartile): 25th percentile (median of lower half)\n",
    "- Q2(Second quartile ≈ Median): 50th percentile\n",
    "- Q3(Third quartile): 75th percentile (median of upper half)\n",
    "\n",
    "These quartiles help describe data spread and are used to calculate the IQR."
   ]
  },
  {
   "cell_type": "code",
   "execution_count": 2,
   "id": "8d87fd89",
   "metadata": {},
   "outputs": [
    {
     "name": "stdout",
     "output_type": "stream",
     "text": [
      "Outliers (IQR method): [20.]\n"
     ]
    }
   ],
   "source": [
    "# Using IQR to Detect Outliers\n",
    "\n",
    "import numpy as np\n",
    "\n",
    "data = np.array([5, 2, 4.5, 4, 3, 2, 6, 20, 9, 2.5, 3.5, 4.75, 6.5, 2.5, 8, 1])\n",
    "\n",
    "Q1 = np.percentile(data, 25)\n",
    "Q3 = np.percentile(data, 75)\n",
    "IQR = Q3 - Q1\n",
    "\n",
    "lower_bound = Q1 - 1.5 * IQR\n",
    "upper_bound = Q3 + 1.5 * IQR\n",
    "\n",
    "# Identify outliers\n",
    "outliers_iqr = data[(data < lower_bound) | (data > upper_bound)]\n",
    "print(\"Outliers (IQR method):\", outliers_iqr)\n",
    "\n",
    "# Expected output includes values outside the fences, e.g., 20 (and possibly 1 if it falls below)."
   ]
  },
  {
   "cell_type": "markdown",
   "id": "7597431c",
   "metadata": {},
   "source": [
    "Pandas has a .quantile() method that accepts an argument as a single value or list of values of quantiles to compute.\n",
    "\n",
    "- Use the .quantile() method with argument equal to .25 to determine the first quartile of the base_salary column. Assign your answer to the variable first_quartile.\n",
    "- Use the .quantile() method with argument equal to .75 to determine the third quartile of the base_salary column. Assign your answer to the variable third_quartile."
   ]
  },
  {
   "cell_type": "markdown",
   "id": "e520cced",
   "metadata": {},
   "source": [
    "3.**Clustering** (More Advanced)\n",
    "- Clustering groups similar points.  \n",
    "- Points that don’t belong to any cluster, or form their own clusters, can be considered outliers. "
   ]
  },
  {
   "cell_type": "markdown",
   "id": "6c822c80",
   "metadata": {},
   "source": [
    "| Method            | Key Concept                     | Python Function/Package                  | Suitable For                |\n",
    "|-------------------|---------------------------------|------------------------------------------|-----------------------------|\n",
    "| Z-Score           | # std deviations from mean      | scipy.stats.zscore                        | Normally distributed data   |\n",
    "| IQR               | Spread of central 50%           | numpy.percentile + manual thresholding    | Robust to outliers          |\n",
    "| Visual Inspection | Box plots, scatter plots        | matplotlib.pyplot.boxplot                 | General exploratory         |\n"
   ]
  },
  {
   "cell_type": "markdown",
   "id": "ece624be",
   "metadata": {},
   "source": [
    "By combining visualization and statistical methods like Z-score and IQR (both available in Python libraries like NumPy, SciPy, and Matplotlib), you can reliably detect and handle outliers to improve the quality of your data and model results."
   ]
  },
  {
   "cell_type": "code",
   "execution_count": null,
   "id": "744086ae",
   "metadata": {},
   "outputs": [],
   "source": [
    "# Sources:\n",
    "\n",
    "# [1](https://absentdata.com/python/how-to-find-outliers-in-python/)\n",
    "# [2](https://www.geeksforgeeks.org/machine-learning/z-score-for-outlier-detection-python/)\n",
    "# [3](https://towardsdatascience.com/3-simple-statistical-methods-for-outlier-detection-db762e86cd9d/)\n",
    "# [4](https://www.scribbr.com/statistics/outliers/)\n",
    "# [5](https://www.geeksforgeeks.org/machine-learning/interquartile-range-to-detect-outliers-in-data/)\n",
    "# [6](https://www.youtube.com/watch?v=STSP8gTSdT8)\n",
    "# [7](https://www.investopedia.com/terms/q/quartile.asp)\n",
    "# [8](https://www.youtube.com/watch?v=5ZaWtQAtMSM)\n",
    "# [9](https://builtin.com/data-science/how-find-outliers-examples)\n",
    "# [10](https://www.khanacademy.org/math/statistics-probability/summarizing-quantitative-data/box-whisker-plots/a/identifying-outliers-iqr-rule)\n",
    "# [11](https://careerfoundry.com/en/blog/data-analytics/how-to-find-outliers/)\n",
    "# [12](https://online.stat.psu.edu/stat200/lesson/3/3.2)\n",
    "# [13](https://stackoverflow.com/questions/73916972/detect-outliers-using-iqr-and-remove-them-using-the-zscore)\n",
    "# [14](https://articles.outlier.org/what-are-quartiles-in-statistics)\n",
    "# [15](https://www.itl.nist.gov/div898/handbook/prc/section1/prc16.htm)\n",
    "# [16](https://discovery.cs.illinois.edu/learn/Exploratory-Data-Analysis/Quartiles-and-Box-Plots/)"
   ]
  }
 ],
 "metadata": {
  "kernelspec": {
   "display_name": "base",
   "language": "python",
   "name": "python3"
  },
  "language_info": {
   "codemirror_mode": {
    "name": "ipython",
    "version": 3
   },
   "file_extension": ".py",
   "mimetype": "text/x-python",
   "name": "python",
   "nbconvert_exporter": "python",
   "pygments_lexer": "ipython3",
   "version": "3.13.5"
  }
 },
 "nbformat": 4,
 "nbformat_minor": 5
}
