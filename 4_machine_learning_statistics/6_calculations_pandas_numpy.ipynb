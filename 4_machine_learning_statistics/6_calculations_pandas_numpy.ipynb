{
 "cells": [
  {
   "cell_type": "markdown",
   "id": "c479d3a1",
   "metadata": {},
   "source": [
    "Explanation and examples of calculating mean, median, mode, variance, standard deviation, IQR, and removing outliers using both pandas and numpy, along with their differences"
   ]
  },
  {
   "cell_type": "code",
   "execution_count": 1,
   "id": "d4eeaec2",
   "metadata": {},
   "outputs": [],
   "source": [
    "# Example Dataset\n",
    "import pandas as pd\n",
    "import numpy as np\n",
    "\n",
    "data = {'values': [12, 15, 12, 15, 18, 14, 14, 15, 16, 19, 22, 12, 100]}  # Last value is an outlier\n",
    "df = pd.DataFrame(data)\n",
    "arr = np.array(data['values'])"
   ]
  },
  {
   "cell_type": "code",
   "execution_count": 2,
   "id": "bf44c030",
   "metadata": {},
   "outputs": [],
   "source": [
    "# Calculations Using Pandas\n",
    "\n",
    "mean_p = df['values'].mean()\n",
    "median_p = df['values'].median()\n",
    "mode_p = df['values'].mode()   # Can return multiple modes as Series\n",
    "variance_p = df['values'].var()    # Sample variance (ddof=1)\n",
    "std_dev_p = df['values'].std()     # Sample std deviation (ddof=1)\n",
    "\n",
    "# IQR Calculation:\n",
    "Q1 = df['values'].quantile(0.25)\n",
    "Q3 = df['values'].quantile(0.75)\n",
    "IQR = Q3 - Q1"
   ]
  },
  {
   "cell_type": "code",
   "execution_count": 5,
   "id": "3b66a2a8",
   "metadata": {},
   "outputs": [],
   "source": [
    "# Calculations Using Numpy\n",
    "\n",
    "mean_n = np.mean(arr)\n",
    "median_n = np.median(arr)\n",
    "\n",
    "# Numpy doesn't have built-in mode, use scipy for mode:\n",
    "from scipy import stats\n",
    "mode_n = stats.mode(arr).mode\n",
    "\n",
    "variance_n = np.var(arr, ddof=1)    # Sample variance: ddof=1 for consistency with pandas\n",
    "std_dev_n = np.std(arr, ddof=1)     # Sample std deviation\n",
    "\n",
    "# IQR Calculation:\n",
    "Q1_n = np.percentile(arr, 25)\n",
    "Q3_n = np.percentile(arr, 75)\n",
    "IQR_n = Q3_n - Q1_n"
   ]
  },
  {
   "cell_type": "code",
   "execution_count": 9,
   "id": "ff98a425",
   "metadata": {},
   "outputs": [],
   "source": [
    "# Removing Outliers Based on IQR (Pandas Example)\n",
    "\n",
    "lower_bound = Q1 - 1.5 * IQR\n",
    "upper_bound = Q3 + 1.5 * IQR\n",
    "\n",
    "filtered_df = df[(df['values'] >= lower_bound) & (df['values'] <= upper_bound)]"
   ]
  },
  {
   "cell_type": "code",
   "execution_count": 10,
   "id": "a94c7e76",
   "metadata": {},
   "outputs": [],
   "source": [
    "# Removing Outliers Using Numpy\n",
    "\n",
    "lower_bound_n = Q1_n - 1.5 * IQR_n\n",
    "upper_bound_n = Q3_n + 1.5 * IQR_n\n",
    "\n",
    "filtered_arr = arr[(arr >= lower_bound_n) & (arr <= upper_bound_n)]"
   ]
  },
  {
   "cell_type": "markdown",
   "id": "9043850e",
   "metadata": {},
   "source": [
    "| Operation        | Pandas                                    | Numpy                                   |\n",
    "|------------------|-------------------------------------------|-----------------------------------------|\n",
    "| Mean, Median     | Works seamlessly on Series/DataFrame      | Works on ndarray; no direct DataFrame support |\n",
    "| Mode             | `.mode()` returns Series of mode(s)       | No built-in mode; use scipy.stats.mode   |\n",
    "| Variance, Std Dev| Default: sample variance (ddof=1)         | Default: population variance (ddof=0), but ddof can be set |\n",
    "| IQR              | `.quantile()` for percentiles             | `np.percentile()`                        |\n",
    "| Outlier Removal  | Boolean indexing on DataFrame             | Boolean indexing on ndarray              |\n"
   ]
  },
  {
   "cell_type": "markdown",
   "id": "00be1a28",
   "metadata": {},
   "source": [
    "To determine whether two variables are positively, negatively, or not correlated by looking at a scatterplot, follow these simple guidelines:\n",
    "| Pattern                               | Correlation Type    | Interpretation                          |\n",
    "|---------------------------------------|-------------------|----------------------------------------|\n",
    "| Upward slope (bottom-left to top-right) | Positive correlation | Variables increase together            |\n",
    "| Downward slope (top-left to bottom-right) | Negative correlation | One variable increases, the other decreases |\n",
    "| No clear slope or pattern              | No correlation     | Variables do not have a linear relationship |\n"
   ]
  }
 ],
 "metadata": {
  "kernelspec": {
   "display_name": "base",
   "language": "python",
   "name": "python3"
  },
  "language_info": {
   "codemirror_mode": {
    "name": "ipython",
    "version": 3
   },
   "file_extension": ".py",
   "mimetype": "text/x-python",
   "name": "python",
   "nbconvert_exporter": "python",
   "pygments_lexer": "ipython3",
   "version": "3.13.5"
  }
 },
 "nbformat": 4,
 "nbformat_minor": 5
}
