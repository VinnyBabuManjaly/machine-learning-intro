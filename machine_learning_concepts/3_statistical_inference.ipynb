{
 "cells": [
  {
   "cell_type": "markdown",
   "id": "b300d5aa",
   "metadata": {},
   "source": [
    "# Statistical Inference  \n",
    "Statistical inference is the process of using a **small sample of data** to learn about or make decisions regarding a much larger group called the **population**. Since it’s often impossible or impractical to study everyone in the population, we use the sample to guess what the whole group might be like.  "
   ]
  },
  {
   "cell_type": "markdown",
   "id": "94672be5",
   "metadata": {},
   "source": [
    "## Descriptive Statistics vs. Inferential Statistics  \n",
    "\n",
    "**Descriptive statistics** summarize and describe the data you have.  \n",
    "\n",
    "- Analogy: Imagine you just picked a handful of apples from a big orchard. Descriptive statistics tell you the average size, most common color, or the typical weight of that handful.  \n",
    "\n",
    "- Examples: Mean (average), median, mode, standard deviation (how spread out data is).  \n",
    "\n",
    "**Inferential statistics** go beyond your handful of apples and help you make predictions or conclusions about all the apples in the entire orchard.  \n",
    " \n",
    "- Analogy: From your handful, you estimate that about 60% of all apples in the orchard are red. You’re inferring orchard-wide info from the small sample.  "
   ]
  },
  {
   "cell_type": "markdown",
   "id": "caba76db",
   "metadata": {},
   "source": [
    "## Key Concepts Explained:\n",
    "**Population**: The entire group you want to learn about.  \n",
    "Analogy: All the apples in the orchard.\n",
    "\n",
    "**Sample**: A smaller group selected from the population that you actually observe or measure.  \n",
    "Analogy: The handful of apples you picked.\n",
    "\n",
    "**Parameter**: A numerical value describing the population characteristic you want to know.  \n",
    "Analogy: The true average size of every apple in the orchard.\n",
    "\n",
    "**Statistic**: A numerical value describing the sample data.  \n",
    "Analogy: The average size of the apples in your handful."
   ]
  },
  {
   "cell_type": "markdown",
   "id": "8fd50017",
   "metadata": {},
   "source": [
    "## Hypothesis Testing (Is there a real effect?)  \n",
    "You start with two opposing ideas (hypotheses):\n",
    "\n",
    "**Null Hypothesis (H0)**: The default assumption, which says there is no effect or no difference, e.g., “The apples in this orchard are all the same size as usual.”  \n",
    "Analogy: Thinking the orchard hasn’t changed from last year.\n",
    "\n",
    "**Alternative Hypothesis (H1)**: The hypothesis you want to prove, saying that there is an effect or difference, e.g., “The apples are bigger this year.”  \n",
    "Analogy: You suspect a new fertilizer made a difference.\n",
    "\n",
    "**Significance Level (α)**: The threshold for deciding if you have strong enough evidence to reject the null hypothesis.  \n",
    "Common values are 0.05 (5% chance you are wrong), 0.01, or 0.1.  \n",
    "Analogy: It’s like setting a rule that if you see apples bigger than usual in 95 out of 100 samples, you’ll believe the fertilizer really worked.\n",
    "\n",
    "**Confidence Interval** (How sure are we?)  \n",
    "A confidence interval is a range of values that you believe contains the true population parameter with a certain level of confidence (often 95%).  \n",
    "Analogy: You say, “I’m 95% confident that the average apple size in the whole orchard is "
   ]
  },
  {
   "cell_type": "markdown",
   "id": "db07afaa",
   "metadata": {},
   "source": [
    "### Summary Analogy: The Apple Orchard Example  \n",
    "The **orchard** = population (all apples everywhere)  \n",
    "Your **handful of apples** = sample (smaller, manageable group)  \n",
    "The **average apple size in the handful** = statistic (sample estimate)  \n",
    "The t**rue average apple size for the orchard** = parameter (unknown, to estimate)  \n",
    "Hypothesis test = testing if a new fertilizer changed the apple size compared to before  \n",
    "Confidence interval = the range in which you expect the orchard’s average apple size to lie based on your sample"
   ]
  },
  {
   "cell_type": "code",
   "execution_count": 2,
   "id": "9f8c0c18",
   "metadata": {},
   "outputs": [],
   "source": [
    "# Sources:\n",
    "# [1](https://bookdown.org/mike/data_analysis/basic-statistical-inference.html)\n",
    "# [2](https://en.wikipedia.org/wiki/Statistical_inference)\n",
    "# [3](https://www.geeksforgeeks.org/statistical-inference/)\n",
    "# [4](https://www.scribbr.com/statistics/inferential-statistics/)\n",
    "# [5](https://www.youtube.com/watch?v=tFRXsngz4UQ)\n",
    "# [6](https://www.reddit.com/r/statistics/comments/nmj3na/question_what_analogies_have_helped_you/)\n",
    "# [7](https://statisticsbyjim.com/hypothesis-testing/statistical-inference/)\n",
    "# [8](https://library.fiveable.me/key-terms/ap-stats/statistical-inference)"
   ]
  }
 ],
 "metadata": {
  "kernelspec": {
   "display_name": "base",
   "language": "python",
   "name": "python3"
  },
  "language_info": {
   "codemirror_mode": {
    "name": "ipython",
    "version": 3
   },
   "file_extension": ".py",
   "mimetype": "text/x-python",
   "name": "python",
   "nbconvert_exporter": "python",
   "pygments_lexer": "ipython3",
   "version": "3.13.5"
  }
 },
 "nbformat": 4,
 "nbformat_minor": 5
}
