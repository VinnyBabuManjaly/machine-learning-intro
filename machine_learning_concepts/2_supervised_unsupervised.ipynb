{
 "cells": [
  {
   "cell_type": "markdown",
   "id": "9f2b9716",
   "metadata": {},
   "source": [
    "### Supervised Learning  \n",
    "**What it is:** A type of machine learning where the computer is trained on labeled data. The labels act as the “right answers” or “correct solutions” during training.  \n",
    "\n",
    "**Analogy:** Like a student with a teacher. The teacher shows the student examples and the correct answers, helping the student learn how to predict the right answer for new questions.  \n",
    "\n",
    "**How it works:** The model learns from examples where the input data and the expected output are known. It uses this knowledge to predict outcomes or classify new, unseen data.  \n",
    "\n",
    "**Example:** Teaching a machine to recognize apples and bananas by showing it many labeled fruit images and telling it which is which, so it can identify new fruit images correctly.  \n"
   ]
  },
  {
   "cell_type": "markdown",
   "id": "897d56d4",
   "metadata": {},
   "source": [
    "### Unsupervised Learning  \n",
    "**What it is:** A type of machine learning where the computer is given unlabeled data. There are no right or wrong answers provided during training.  \n",
    "\n",
    "**Analogy:** Like an explorer or detective without a map; the machine tries to find hidden patterns, groups, or relationships in the data all by itself.  \n",
    "\n",
    "**How it works:** The model analyzes the input data, discovers similarities or differences, and organizes the data into groups or identifies trends without any guidance on the output.  \n",
    "\n",
    "**Example:** Giving a machine a bunch of fruit images without any labels and it groups similar fruits together based on features like color or shape, but it doesn’t know their names.  "
   ]
  },
  {
   "cell_type": "markdown",
   "id": "d7b65c90",
   "metadata": {},
   "source": [
    "| Feature          | Supervised Learning                                | Unsupervised Learning                       |\n",
    "|------------------|----------------------------------------------------|---------------------------------------------|\n",
    "| Training Data    | Uses labeled data (input + correct output)         | Uses unlabeled data (input only)            |\n",
    "| Guidance         | Has a teacher or supervisor giving correct answers | No teacher; finds patterns on its own       |\n",
    "| Goal             | Predict or classify new data based on known examples | Discover hidden patterns or groupings in data |\n",
    "| Examples         | Spam detection, image recognition with labels      | Customer segmentation, anomaly detection    |\n",
    "| Model Evaluation | Easy to test accuracy (compare prediction with label) | Harder to evaluate without known labels     |\n"
   ]
  },
  {
   "cell_type": "markdown",
   "id": "804cfdb5",
   "metadata": {},
   "source": [
    "Supervised learning is learning with a guide (labeled data).  \n",
    "\n",
    "Unsupervised learning is learning without guidance, exploring the data to find structure on its own."
   ]
  },
  {
   "cell_type": "code",
   "execution_count": 1,
   "id": "bcf48504",
   "metadata": {},
   "outputs": [],
   "source": [
    "# Sources:\n",
    "# [1](https://www.geeksforgeeks.org/machine-learning/difference-between-supervised-and-unsupervised-learning/)\n",
    "# [2](https://www.geeksforgeeks.org/machine-learning/supervised-unsupervised-learning/)\n",
    "# [3](https://www.seldon.io/supervised-vs-unsupervised-learning-explained-2/)\n",
    "# [4](https://www.ibm.com/think/topics/supervised-vs-unsupervised-learning)\n",
    "# [5](https://www.moveworks.com/us/en/resources/blog/supervised-vs-unsupervised-learning-whats-the-difference)\n",
    "# [6](https://aws.amazon.com/compare/the-difference-between-machine-learning-supervised-and-unsupervised/)\n",
    "# [7](https://www.reddit.com/r/MLQuestions/comments/1h4jrm1/question_about_supervised_vs_unsupervised_learning/)\n",
    "# [8](https://www.youtube.com/watch?v=W01tIRP_Rqs)\n",
    "# [9](https://www.coursera.org/articles/supervised-vs-unsupervised-learning)"
   ]
  }
 ],
 "metadata": {
  "kernelspec": {
   "display_name": "base",
   "language": "python",
   "name": "python3"
  },
  "language_info": {
   "codemirror_mode": {
    "name": "ipython",
    "version": 3
   },
   "file_extension": ".py",
   "mimetype": "text/x-python",
   "name": "python",
   "nbconvert_exporter": "python",
   "pygments_lexer": "ipython3",
   "version": "3.13.5"
  }
 },
 "nbformat": 4,
 "nbformat_minor": 5
}
