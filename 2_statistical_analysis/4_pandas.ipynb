{
 "cells": [
  {
   "cell_type": "markdown",
   "id": "8a87f445",
   "metadata": {},
   "source": [
    "# Pandas\n",
    "\n",
    "- Pandas is a Python package designed to make working with structured (tabular) data fast and flexible.\n",
    "\n",
    "- It provides two main data structures: **Series** (one-dimensional, like a single column) and **DataFrame** (two-dimensional, like a table of rows and columns).\n",
    "\n",
    "- Each column in a DataFrame holds only one data type (homogeneous), but different columns can have different types (e.g., numbers and text)."
   ]
  },
  {
   "cell_type": "markdown",
   "id": "b3f9fe8c",
   "metadata": {},
   "source": [
    "### Why Pandas?\n",
    "- While Python lists and dictionaries can hold any type of data, they're not optimized for tabular or column-based operations and analysis.\n",
    "\n",
    "- NumPy arrays are highly efficient for numeric calculations but only support a single data type and lack rich labeling.\n",
    "\n",
    "- *pandas* DataFrames bridge the gap by allowing each column to be labeled, contain homogeneous values, and handle large, complex datasets efficiently "
   ]
  },
  {
   "cell_type": "code",
   "execution_count": 11,
   "id": "4a41c4b3",
   "metadata": {},
   "outputs": [
    {
     "data": {
      "text/html": [
       "<div>\n",
       "<style scoped>\n",
       "    .dataframe tbody tr th:only-of-type {\n",
       "        vertical-align: middle;\n",
       "    }\n",
       "\n",
       "    .dataframe tbody tr th {\n",
       "        vertical-align: top;\n",
       "    }\n",
       "\n",
       "    .dataframe thead th {\n",
       "        text-align: right;\n",
       "    }\n",
       "</style>\n",
       "<table border=\"1\" class=\"dataframe\">\n",
       "  <thead>\n",
       "    <tr style=\"text-align: right;\">\n",
       "      <th></th>\n",
       "      <th>A</th>\n",
       "      <th>B</th>\n",
       "    </tr>\n",
       "  </thead>\n",
       "  <tbody>\n",
       "    <tr>\n",
       "      <th>0</th>\n",
       "      <td>1</td>\n",
       "      <td>x</td>\n",
       "    </tr>\n",
       "    <tr>\n",
       "      <th>1</th>\n",
       "      <td>2</td>\n",
       "      <td>y</td>\n",
       "    </tr>\n",
       "    <tr>\n",
       "      <th>2</th>\n",
       "      <td>3</td>\n",
       "      <td>z</td>\n",
       "    </tr>\n",
       "  </tbody>\n",
       "</table>\n",
       "</div>"
      ],
      "text/plain": [
       "   A  B\n",
       "0  1  x\n",
       "1  2  y\n",
       "2  3  z"
      ]
     },
     "execution_count": 11,
     "metadata": {},
     "output_type": "execute_result"
    }
   ],
   "source": [
    "# Creating dataframe from a dictionary\n",
    "\n",
    "import pandas as pd\n",
    "\n",
    "data = {\"A\": [1, 2, 3], \"B\": ['x', 'y', 'z']}\n",
    "pd.DataFrame(data)\n",
    "\n",
    "# Every DataFrame has an index—a label for each row.\n",
    "# By default, the index is numeric (0, 1, 2, ...)."
   ]
  },
  {
   "cell_type": "code",
   "execution_count": 12,
   "id": "ed28a9a7",
   "metadata": {},
   "outputs": [
    {
     "data": {
      "text/html": [
       "<div>\n",
       "<style scoped>\n",
       "    .dataframe tbody tr th:only-of-type {\n",
       "        vertical-align: middle;\n",
       "    }\n",
       "\n",
       "    .dataframe tbody tr th {\n",
       "        vertical-align: top;\n",
       "    }\n",
       "\n",
       "    .dataframe thead th {\n",
       "        text-align: right;\n",
       "    }\n",
       "</style>\n",
       "<table border=\"1\" class=\"dataframe\">\n",
       "  <thead>\n",
       "    <tr style=\"text-align: right;\">\n",
       "      <th></th>\n",
       "      <th>A</th>\n",
       "      <th>B</th>\n",
       "    </tr>\n",
       "  </thead>\n",
       "  <tbody>\n",
       "    <tr>\n",
       "      <th>row0</th>\n",
       "      <td>1</td>\n",
       "      <td>x</td>\n",
       "    </tr>\n",
       "    <tr>\n",
       "      <th>row1</th>\n",
       "      <td>2</td>\n",
       "      <td>y</td>\n",
       "    </tr>\n",
       "    <tr>\n",
       "      <th>row2</th>\n",
       "      <td>3</td>\n",
       "      <td>z</td>\n",
       "    </tr>\n",
       "  </tbody>\n",
       "</table>\n",
       "</div>"
      ],
      "text/plain": [
       "      A  B\n",
       "row0  1  x\n",
       "row1  2  y\n",
       "row2  3  z"
      ]
     },
     "execution_count": 12,
     "metadata": {},
     "output_type": "execute_result"
    }
   ],
   "source": [
    "# Setting index in dataframes\n",
    "\n",
    "# Set a custom index when creating or using methods\n",
    "pd.DataFrame(data, index=[\"row0\", \"row1\", \"row2\"])"
   ]
  },
  {
   "cell_type": "code",
   "execution_count": 16,
   "id": "23aabf64",
   "metadata": {},
   "outputs": [
    {
     "data": {
      "text/html": [
       "<div>\n",
       "<style scoped>\n",
       "    .dataframe tbody tr th:only-of-type {\n",
       "        vertical-align: middle;\n",
       "    }\n",
       "\n",
       "    .dataframe tbody tr th {\n",
       "        vertical-align: top;\n",
       "    }\n",
       "\n",
       "    .dataframe thead th {\n",
       "        text-align: right;\n",
       "    }\n",
       "</style>\n",
       "<table border=\"1\" class=\"dataframe\">\n",
       "  <thead>\n",
       "    <tr style=\"text-align: right;\">\n",
       "      <th></th>\n",
       "      <th>B</th>\n",
       "    </tr>\n",
       "    <tr>\n",
       "      <th>A</th>\n",
       "      <th></th>\n",
       "    </tr>\n",
       "  </thead>\n",
       "  <tbody>\n",
       "    <tr>\n",
       "      <th>1</th>\n",
       "      <td>x</td>\n",
       "    </tr>\n",
       "    <tr>\n",
       "      <th>2</th>\n",
       "      <td>y</td>\n",
       "    </tr>\n",
       "    <tr>\n",
       "      <th>3</th>\n",
       "      <td>z</td>\n",
       "    </tr>\n",
       "  </tbody>\n",
       "</table>\n",
       "</div>"
      ],
      "text/plain": [
       "   B\n",
       "A   \n",
       "1  x\n",
       "2  y\n",
       "3  z"
      ]
     },
     "execution_count": 16,
     "metadata": {},
     "output_type": "execute_result"
    }
   ],
   "source": [
    "# Set an index from a column after creation\n",
    "\n",
    "df = pd.DataFrame(data)\n",
    "df.set_index(\"A\", inplace=True)\n",
    "df"
   ]
  },
  {
   "cell_type": "markdown",
   "id": "a956c06f",
   "metadata": {},
   "source": [
    "### Creating DataFrames from Files and URLs\n",
    "*pandas* supports reading from many sources:\n",
    "\n",
    "- CSV: pd.read_csv('filename.csv')\n",
    "- Excel: pd.read_excel('filename.xlsx')\n",
    "- Even directly from URLs, e.g., pd.read_csv('http://website.com/data.csv')."
   ]
  },
  {
   "cell_type": "markdown",
   "id": "99918f98",
   "metadata": {},
   "source": [
    "### Common DataFrame Methods\n",
    "- **.info()**:Concise summary of the DataFrame, including index, column types, and non-null counts.\n",
    "- **.describe()**: Summary statistics for numerical columns (count, mean, std, min, quartiles, max).\n",
    "- **.head(n)**: Returns the first n rows (default 5), useful for quickly inspecting data.\n",
    "- **.tail(n)**: Shows the last n rows."
   ]
  },
  {
   "cell_type": "code",
   "execution_count": 18,
   "id": "9189cbb1",
   "metadata": {},
   "outputs": [
    {
     "name": "stdout",
     "output_type": "stream",
     "text": [
      "<class 'pandas.core.frame.DataFrame'>\n",
      "RangeIndex: 3 entries, 0 to 2\n",
      "Data columns (total 2 columns):\n",
      " #   Column  Non-Null Count  Dtype \n",
      "---  ------  --------------  ----- \n",
      " 0   Name    3 non-null      object\n",
      " 1   Age     3 non-null      int64 \n",
      "dtypes: int64(1), object(1)\n",
      "memory usage: 180.0+ bytes\n",
      "None \n",
      "\n",
      "             Age\n",
      "count   3.000000\n",
      "mean   34.666667\n",
      "std    11.239810\n",
      "min    25.000000\n",
      "25%    28.500000\n",
      "50%    32.000000\n",
      "75%    39.500000\n",
      "max    47.000000 \n",
      "\n",
      "    Name  Age\n",
      "0  Alice   25\n",
      "1    Bob   32 \n",
      "\n"
     ]
    }
   ],
   "source": [
    "import pandas as pd\n",
    "\n",
    "data = {\"Name\": [\"Alice\", \"Bob\", \"Carol\"], \"Age\": [25, 32, 47]}\n",
    "df = pd.DataFrame(data)\n",
    "print(df.info(), \"\\n\")      # Summary: columns, datatypes, missing values\n",
    "print(df.describe(), \"\\n\")  # Descriptive statistics for columns\n",
    "print(df.head(2), \"\\n\")     # First two rows"
   ]
  },
  {
   "cell_type": "code",
   "execution_count": 34,
   "id": "3a5e3cec",
   "metadata": {},
   "outputs": [
    {
     "name": "stdout",
     "output_type": "stream",
     "text": [
      "<class 'pandas.core.frame.DataFrame'>\n",
      "RangeIndex: 24 entries, 0 to 23\n",
      "Data columns (total 6 columns):\n",
      " #   Column                  Non-Null Count  Dtype  \n",
      "---  ------                  --------------  -----  \n",
      " 0   Year                    24 non-null     object \n",
      " 1   Age                     24 non-null     object \n",
      " 2   Gender                  24 non-null     object \n",
      " 3   Educational Attainment  24 non-null     object \n",
      " 4   Personal Income         24 non-null     object \n",
      " 5   Population Count        20 non-null     float64\n",
      "dtypes: float64(1), object(5)\n",
      "memory usage: 1.3+ KB\n",
      "None \n",
      "\n",
      "       Population Count\n",
      "count         20.000000\n",
      "mean      107540.750000\n",
      "std       204389.950046\n",
      "min         1304.000000\n",
      "25%         3250.250000\n",
      "50%         7345.000000\n",
      "75%        65717.250000\n",
      "max       650889.000000 \n",
      "\n",
      "                     Year       Age Gender  \\\n",
      "0  01/01/2008 12:00:00 AM  00 to 17   Male   \n",
      "1  01/01/2008 12:00:00 AM  00 to 17   Male   \n",
      "2  01/01/2008 12:00:00 AM  00 to 17   Male   \n",
      "3  01/01/2008 12:00:00 AM  00 to 17   Male   \n",
      "4  01/01/2008 12:00:00 AM  00 to 17   Male   \n",
      "5  01/01/2008 12:00:00 AM  00 to 17   Male   \n",
      "6  01/01/2008 12:00:00 AM  00 to 17   Male   \n",
      "7  01/01/2008 12:00:00 AM  00 to 17   Male   \n",
      "8  01/01/2008 12:00:00 AM  00 to 17   Male   \n",
      "9  01/01/2008 12:00:00 AM  00 to 17   Male   \n",
      "\n",
      "                Educational Attainment     Personal Income  Population Count  \n",
      "0                    Children under 15           No Income               NaN  \n",
      "1               No high school diploma           No Income          650889.0  \n",
      "2               No high school diploma    $5,000 to $9,999           30152.0  \n",
      "3               No high school diploma  $10,000 to $14,999            7092.0  \n",
      "4               No high school diploma  $15,000 to $24,999            3974.0  \n",
      "5               No high school diploma  $25,000 to $34,999            2606.0  \n",
      "6               No high school diploma  $35,000 to $49,999            2227.0  \n",
      "7            High school or equivalent           No Income               NaN  \n",
      "8  Some college, less than 4-yr degree           No Income            8664.0  \n",
      "9  Some college, less than 4-yr degree  $10,000 to $14,999            1304.0   \n",
      "\n"
     ]
    }
   ],
   "source": [
    "# Loading Data from External Sources\n",
    "# Load data on eductional attainment and personal income from a file \n",
    "# [California Open Data](https://data.ca.gov/dataset/ca-educational-attainment-personal-income/resource/26201f19-4469-4311-a819-bbbd3e557eda) portal. \n",
    "\n",
    "table = pd.read_csv(\"test-csv-file.csv\")\n",
    "\n",
    "print(table.info(), \"\\n\")      # Summary: columns, datatypes, missing values\n",
    "print(table.describe(), \"\\n\")  # Descriptive statistics for columns\n",
    "print(table.head(10), \"\\n\")     # First two rows"
   ]
  },
  {
   "cell_type": "code",
   "execution_count": 32,
   "id": "7db1b48a",
   "metadata": {},
   "outputs": [
    {
     "name": "stdout",
     "output_type": "stream",
     "text": [
      "  Month   \"1958\"   \"1959\"   \"1960\"\n",
      "0   JAN      340      360      417\n",
      "1   FEB      318      342      391\n",
      "2   MAR      362      406      419\n",
      "3   APR      348      396      461\n",
      "4   MAY      363      420      472\n"
     ]
    }
   ],
   "source": [
    "# Load data from a CSV URL\n",
    "url = \"https://people.sc.fsu.edu/~jburkardt/data/csv/airtravel.csv\"\n",
    "\n",
    "# Load the CSV file into a pandas DataFrame\n",
    "df = pd.read_csv(url)\n",
    "\n",
    "# Display the first five rows\n",
    "print(df.head())"
   ]
  },
  {
   "cell_type": "markdown",
   "id": "613bdfd8",
   "metadata": {},
   "source": [
    "### Why pandas is Essential\n",
    "*pandas* makes real-world data analysis, cleaning, and exploration practical and efficient for scientists, analysts, and engineers.\n",
    "\n",
    "Its integration with NumPy and other data science tools makes it a foundational part of the Python data ecosystem."
   ]
  },
  {
   "cell_type": "code",
   "execution_count": null,
   "id": "ea0fd937",
   "metadata": {},
   "outputs": [],
   "source": [
    "# Sources:\n",
    "# [1](https://www.youtube.com/watch?v=EXIgjIBu4EU)\n",
    "# [2](https://www.learndatasci.com/tutorials/python-pandas-tutorial-complete-introduction-for-beginners/)\n",
    "# [3](https://www.youtube.com/watch?v=2uvysYbKdjM)\n",
    "# [4](https://www.w3schools.com/python/pandas/default.asp)\n",
    "# [5](https://pandas.pydata.org/docs/user_guide/10min.html)\n",
    "# [6](https://www.geeksforgeeks.org/pandas/pandas-tutorial/)\n",
    "# [7](https://www.reddit.com/r/Python/comments/lain0r/hey_reddit_heres_my_comprehensive_course_on/)\n",
    "# [8](https://www.youtube.com/playlist?list=PLUaB-1hjhk8GZOuylZqLz-Qt9RIdZZMBE)"
   ]
  }
 ],
 "metadata": {
  "kernelspec": {
   "display_name": "base",
   "language": "python",
   "name": "python3"
  },
  "language_info": {
   "codemirror_mode": {
    "name": "ipython",
    "version": 3
   },
   "file_extension": ".py",
   "mimetype": "text/x-python",
   "name": "python",
   "nbconvert_exporter": "python",
   "pygments_lexer": "ipython3",
   "version": "3.13.5"
  }
 },
 "nbformat": 4,
 "nbformat_minor": 5
}
