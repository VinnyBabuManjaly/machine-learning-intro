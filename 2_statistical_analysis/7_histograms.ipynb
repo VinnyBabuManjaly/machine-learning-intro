{
 "cells": [
  {
   "cell_type": "markdown",
   "id": "054f2687",
   "metadata": {},
   "source": [
    "### What Is a Histogram?\n",
    "A *histogram* is a type of bar plot that shows the frequency distribution of a single numerical variable by grouping the data points into bins (intervals) and plotting how many data points fall into each bin.\n",
    "\n",
    "- The x-axis represents the bins (ranges of values).\n",
    "\n",
    "- The y-axis represents the count (or frequency) of data points per bin.\n",
    "\n",
    "This visualization helps us quickly grasp the shape and characteristics of data."
   ]
  },
  {
   "cell_type": "markdown",
   "id": "9b3a60bf",
   "metadata": {},
   "source": [
    "### Why Are Histograms Important?\n",
    "Histograms reveal aspects of data that summary statistics (like mean or median) might miss:\n",
    "\n",
    "**Distribution Shape**:\n",
    "\n",
    "- Whether data is symmetric (like the classic bell-shaped normal distribution).\n",
    "\n",
    "- If the data clusters around a central value or is spread out.\n",
    "\n",
    "**Skewness**:\n",
    "\n",
    "- If one tail of the data is longer (skewed left or right), which means the data is not symmetrical.\n",
    "\n",
    "- This skewness affects statistical modeling and sometimes calls for data transformations.\n",
    "\n",
    "**Outliers**:\n",
    "\n",
    "- Histograms highlight rare or extreme values that fall far from the main data cluster.\n",
    "\n",
    "- Outliers require investigation and sometimes data cleaning or transformation.\n",
    "\n",
    "This makes histograms vital during exploratory data analysis (EDA) before deeper modeling or inference."
   ]
  },
  {
   "cell_type": "markdown",
   "id": "fc544d1f",
   "metadata": {},
   "source": [
    "### Creating Histograms with pandas\n",
    "\n",
    "    DataFrame.hist(column=None, by=None, bins=10, figsize=None, grid=True, ... )\n",
    "\n",
    "- column: Name(s) of the column(s) to plot. If omitted, plots all numeric columns.\n",
    "\n",
    "- bins: Number of bins (intervals).\n",
    "\n",
    "- figsize: Tuple specifying figure size.\n",
    "\n",
    "- grid: Show grid or not."
   ]
  },
  {
   "cell_type": "markdown",
   "id": "f66c55f1",
   "metadata": {},
   "source": [
    "### Interpreting Histograms\n",
    "1. **Data Shape**\n",
    "- Symmetric / Normal Distribution: Histogram forms a bell curve.\n",
    "- Uniform: Flat-topped, values spread evenly across bins.\n",
    "- Bimodal: Two distinct peaks → possibly a mixture of two groups.\n",
    "\n",
    "2. **Skewness**\n",
    "\n",
    "- Right (Positive) Skew: Longer tail on the right; bulk of data on the left.\n",
    "- Left (Negative) Skew: Longer tail on the left; bulk of data on the right.\n",
    "\n",
    "3. **Outliers**\n",
    "- Isolated bars far from the main cluster.\n",
    "- Important to identify and investigate for quality or transformational decision."
   ]
  },
  {
   "cell_type": "code",
   "execution_count": 1,
   "id": "d209a71f",
   "metadata": {},
   "outputs": [],
   "source": [
    "# Sources:\n",
    "# [1](https://www.geeksforgeeks.org/python/pandas-dataframe-hist/)\n",
    "# [2](https://sparkbyexamples.com/pandas/pandas-plot-a-histogram/)\n",
    "# [3](https://docs.kanaries.net/topics/Pandas/dataframe-histogram)\n",
    "# [4](https://www.programiz.com/python-programming/pandas/histogram)\n",
    "# [5](https://mode.com/example-gallery/python_histogram/)\n",
    "# [6](https://pandas.pydata.org/docs/reference/api/pandas.DataFrame.hist.html)\n",
    "# [7](https://www.fabi.ai/blog/pandas-histogram-creating-histogram-in-python-with-examples)\n",
    "# [8](https://data36.com/plot-histogram-python-pandas/)\n",
    "# [9](https://www.w3schools.com/python/matplotlib_histograms.asp)\n",
    "# [10](https://www.youtube.com/watch?v=zNvxJNQhmRs)"
   ]
  }
 ],
 "metadata": {
  "kernelspec": {
   "display_name": "base",
   "language": "python",
   "name": "python3"
  },
  "language_info": {
   "codemirror_mode": {
    "name": "ipython",
    "version": 3
   },
   "file_extension": ".py",
   "mimetype": "text/x-python",
   "name": "python",
   "nbconvert_exporter": "python",
   "pygments_lexer": "ipython3",
   "version": "3.13.5"
  }
 },
 "nbformat": 4,
 "nbformat_minor": 5
}
