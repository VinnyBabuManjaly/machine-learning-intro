{
 "cells": [
  {
   "cell_type": "markdown",
   "id": "0c1d7f82",
   "metadata": {},
   "source": [
    "## Statistical analysis\n",
    "Statistical analysis is foundational to machine learning (ML) and artificial intelligence (AI), as it involves extracting insights and patterns from data to make decisions and predictions under uncertainty. A key concept introduced is the probability distribution, which describes all possible outcomes a random variable can take. These can be either discrete (countable outcomes) or continuous (any value within a range)."
   ]
  },
  {
   "cell_type": "markdown",
   "id": "7886f58c",
   "metadata": {},
   "source": [
    "### Cross-Industry Standard Process for Data Mining (CRISP-DM) \n",
    "Because of the complexity in ML and AI tasks, a structured and interactive framework is crucial for functional statistical analysis.  \n",
    "\n",
    "The Cross-Industry Standard Process for Data Mining (CRISP-DM) is a widely-used methodology that guides data mining projects through six key phases:  \n",
    "\n",
    "1. Business Understanding: Defining objectives and converting them into a data mining problem.  \n",
    "\n",
    "2. Data Understanding: Gathering and familiarizing with data, identifying quality issues, and discovering insights.\n",
    "\n",
    "3. Data Preparation: Cleaning, transforming, and organizing data needed for modeling.\n",
    "\n",
    "4. Modeling: Applying machine learning techniques to build predictive models.\n",
    "\n",
    "5. Evaluation: Assessing the model's performance and ensuring it meets business goals.\n",
    "\n",
    "6. Deployment: Implementing the model for practical use and ongoing monitoring.\n",
    "\n",
    "This iterative approach helps ensure that ML and AI models are developed in a systematic way that aligns with business needs and data realities, improving reliability and effectiveness.\n"
   ]
  },
  {
   "cell_type": "code",
   "execution_count": null,
   "id": "2c6c6727",
   "metadata": {},
   "outputs": [],
   "source": [
    "# Sources:\n",
    "# [1](https://en.wikipedia.org/wiki/Cross-industry_standard_process_for_data_mining)\n",
    "# [2](https://www.ibm.com/think/topics/statistical-machine-learning)\n",
    "# [3](http://cs.unibo.it/~danilo.montesi/CBD/Beatriz/10.1.1.198.5133.pdf)\n",
    "# [4](https://www.rootstrap.com/blog/understanding-basic-statistics-for-machine-learning-models)\n",
    "# [5](https://www.sv-europe.com/crisp-dm-methodology/)\n",
    "# [6](https://www.youtube.com/watch?v=QIXUTsdj_oA)\n",
    "# [7](https://app.myeducator.com/reader/web/1421a/2/qk5s5/)\n",
    "# [8](https://www.youtube.com/watch?v=ZsnLUm-l2x0)\n",
    "# [9](https://www.datascience-pm.com/crisp-dm-2/)\n",
    "# [10](https://pmc.ncbi.nlm.nih.gov/articles/PMC9949554/)"
   ]
  }
 ],
 "metadata": {
  "kernelspec": {
   "display_name": "base",
   "language": "python",
   "name": "python3"
  },
  "language_info": {
   "codemirror_mode": {
    "name": "ipython",
    "version": 3
   },
   "file_extension": ".py",
   "mimetype": "text/x-python",
   "name": "python",
   "nbconvert_exporter": "python",
   "pygments_lexer": "ipython3",
   "version": "3.13.5"
  }
 },
 "nbformat": 4,
 "nbformat_minor": 5
}
