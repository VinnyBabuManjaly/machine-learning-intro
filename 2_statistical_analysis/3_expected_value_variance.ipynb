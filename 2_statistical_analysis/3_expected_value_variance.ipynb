{
 "cells": [
  {
   "cell_type": "markdown",
   "id": "e9a185d0",
   "metadata": {},
   "source": [
    "## Random Variable\n",
    "Before expected value or variance, we need to understand the building block: random variables.  \n",
    "\n",
    "A random variable (RV) is not random in the sense of \"wild chaos.\" Think of it as a function that assigns numbers to outcomes of a random event.  \n",
    "\n",
    "- Example: Roll a fair die → your random variable X could be \"the number showing on the die\".  \n",
    "- Example: Toss a coin → your random variable Y could be \"1 if heads, 0 if tails\".  \n",
    "\n",
    "There are two main types:  \n",
    "- **Discrete random variable** → takes on separate values (like dice rolls: 1, 2, 3, 4, 5, 6).  \n",
    "- **Continuous random variable** → takes on any value within an interval (like the exact height of a student: 167.43 cm, 167.431 cm, etc.).  \n"
   ]
  },
  {
   "cell_type": "markdown",
   "id": "75ec0ba2",
   "metadata": {},
   "source": [
    "## Probability Distributions  \n",
    "The random variable doesn’t “float freely.” It’s tied to a probability distribution that tells us how likely each value is.  \n",
    "\n",
    "A random variable is a variable whose possible values result from a random phenomenon—its behavior is governed by probability, not certainty. The probabilities themselves are described by a function called a probability distribution:\n",
    "\n",
    "- For discrete random variables, this function is called a **probability mass function (PMF)**.\n",
    "- For continuous random variables, it is a **probability density function (PDF)**.\n",
    "\n",
    "Rules for a distribution:  \n",
    "- No negative probabilities.  \n",
    "Probability values must be ≥ 0.  \n",
    "It does not make sense to have \"−20% chance.\"  \n",
    "- Total probability must be 1.  \n",
    "For discrete distributions: all probabilities add up to 1.  \n",
    "Example: For a fair die, P(X=k)=1/6, k=1,2,3,4,5,6 and 1/6 × 6 = 1.  \n",
    "For continuous distributions: probabilities are described with a density function (PDF). The curve can go above 1, but the area under the curve across all possible values = 1.  \n",
    "∫−∞∞ f(x) dx = 1  \n",
    "\n",
    "Think of it like this:  \n",
    "Discrete = “probability mass stacked into boxes.”  \n",
    "Continuous = “smooth probability liquid spread under a curve of area 1.”  \n"
   ]
  },
  {
   "cell_type": "markdown",
   "id": "df7336e0",
   "metadata": {},
   "source": [
    "## Expected Value (Mean, Expectation)  \n",
    "The expected value (EV) is the \"center\" of a probability distribution — the point you'd balance it if it were a teeter-totter.  \n",
    "The mean or mathematical expectation, is the “center of mass” or long-run average of a random variable’s possible outcomes, each weighted by its probability. Imagine repeating the random process indefinitely: the average outcome you would see is the expected value.\n",
    "\n",
    "Mathematical definitions:  \n",
    "- For discrete RV, X:  \n",
    "**E[X] = ∑ xi P(X=xi)** (sum of each value times its probability).  \n",
    "\n",
    "- For continuous RV, X:  \n",
    "**E[X] = ∫−∞∞ x f(x) dx** (integral of each value weighted by the density).  \n",
    "\n",
    "Interpretation: Expected value = “long-run average.”  \n",
    "Imagine repeating an experiment thousands of times. If you take the average of all outcomes, it will settle closer and closer to the expected value.  \n",
    "\n",
    "Example 1: Dice Roll  \n",
    "E[X] = ∑(k=1 to 6) k⋅(1/6) = 21/6 = 3.5  \n",
    "Even though 3.5 is not a possible roll, it’s the balance point: half outcomes are below, half above.  \n",
    "\n",
    "Example 2: Continuous Uniform(0, 2)  \n",
    "If probability is equal between 0 and 2, PDF = 0.5 between 0 and 2.  \n",
    "E[X] = ∫0^2 x⋅0.5 dx = 1  \n",
    "Mean = mid-point = 1.  "
   ]
  },
  {
   "cell_type": "markdown",
   "id": "cd581a70",
   "metadata": {},
   "source": [
    "## Median vs Mean (Why not always use median?)  \n",
    "**Mean (expected value): Balance point.** Sensitive to outliers.  \n",
    "**Median: Middle value if you sort data**. Not affected by outliers.  \n",
    "\n",
    "Example: Weekly salary of 5 people:  \n",
    "Mean ≈ 2,710 → inflated by one outlier.  \n",
    "Median = 700 → gives a “typical” sense.  \n",
    "\n",
    "So why stick with mean in probability theory?  \n",
    "Because the Law of Large Numbers links the mean to repeated trials — averages converge to the expected value, not the median. "
   ]
  },
  {
   "cell_type": "markdown",
   "id": "f841d585",
   "metadata": {},
   "source": [
    "## Variance (and Standard Deviation)  \n",
    "If expected value tells us center, variance tells us spread (how wide the distribution is).  \n",
    "\n",
    "Definition  \n",
    "Variance of X: **Var(X) = E[(X−E[X])²] = “Average squared distance from the mean.”**  \n",
    "\n",
    "Discrete case: Var(X) = ∑ (xi−μ)² P(X=xi)  \n",
    "Continuous case: Var(X) = ∫−∞∞ (x−μ)² f(x) dx  \n",
    "where μ is the E[X], the expected value or mean\n",
    "\n",
    "Example: Dice roll variance  \n",
    "Mean = 3.5. Compute squared deviations:  \n",
    "Var(X) = (1/6) ∑(k=1 to 6)(k−3.5)² = 2.92  \n",
    "So standard deviation: **σ = √Var(X)** ≈ 1.71  \n",
    "\n",
    "Key intuition:  \n",
    "Low variance: Values tightly clustered near mean.  \n",
    "High variance: Values scattered widely.  \n",
    "Units: If X is measured in meters, variance = m². That’s why people prefer standard deviation (σ) — same units as the variable.  \n"
   ]
  },
  {
   "cell_type": "markdown",
   "id": "3f4a0354",
   "metadata": {},
   "source": [
    "## The Law of Large Numbers (Why the Mean Matters)  \n",
    "This is a cornerstone theorem:  \n",
    "If you repeat an experiment many times, the empirical average of outcomes will converge to the expected value.  \n",
    "\n",
    "Formally: (1/n) ∑(i=1 to n) Xi → E[X] as n→∞  \n",
    "\n",
    "Example: Toss a fair coin (E[X] = 0.5 for heads if coding heads=1).  \n",
    "At 10 tosses, average may be 0.6.  \n",
    "At 1,000, it will hover near 0.5.  \n",
    "At 1,000,000, it will be extremely close to 0.5.  \n",
    "\n",
    "This property makes the mean reliable as the long-run description of a system.  \n"
   ]
  },
  {
   "cell_type": "markdown",
   "id": "dc5dce53",
   "metadata": {},
   "source": [
    "Putting It All Together  \n",
    "\n",
    "**Random variable**: assigns numbers to random outcomes.  \n",
    "**Distribution**: describes likelihood of different outcomes.  \n",
    "**Expected value (mean, μ)**: balance point, long-run average.  \n",
    "**Variance** (σ²): average squared deviation from mean → spread/uncertainty.  \n",
    "**Standard deviation** (σ): square root of variance, same units as variable.  \n",
    "**Median vs Mean**: median is robust to outliers, but mean links to long-run averages.  \n",
    "**Law of Large Numbers**: sample averages converge to expected value, justifying its importance.  \n",
    "\n",
    "So, if I simplify:  \n",
    "Expected value = \"center\" of gravity, long-term average  \n",
    "Variance = \"width\" of the spread around that center  "
   ]
  },
  {
   "cell_type": "code",
   "execution_count": null,
   "id": "5da29483",
   "metadata": {},
   "outputs": [],
   "source": [
    "# Sources:\n",
    "# [1](https://www.investopedia.com/terms/e/expected-value.asp)\n",
    "# [2](https://www.youtube.com/watch?v=BUk1Bl3E86I)\n",
    "# [3](https://statisticsbyjim.com/probability/expected-value/)\n",
    "# [4](https://www.youtube.com/watch?v=5mor27xtjcY)\n",
    "# [5](https://www.geeksforgeeks.org/maths/expected-value/)\n",
    "# [6](https://www.youtube.com/watch?v=SEIpdMxb8Gs)\n",
    "# [7](https://www.statisticshowto.com/probability-and-statistics/expected-value/)\n",
    "# [8](https://www.youtube.com/watch?v=1YE-pxKXCM0)\n",
    "# [9](https://en.wikipedia.org/wiki/Expected_value)\n",
    "# [10](https://www.youtube.com/watch?v=fdi2KmPSbfs)"
   ]
  }
 ],
 "metadata": {
  "kernelspec": {
   "display_name": "base",
   "language": "python",
   "name": "python3"
  },
  "language_info": {
   "name": "python",
   "version": "3.13.5"
  }
 },
 "nbformat": 4,
 "nbformat_minor": 5
}
