{
 "cells": [
  {
   "cell_type": "markdown",
   "id": "e6a6b000",
   "metadata": {},
   "source": [
    "Data selection in pandas is fundamental for effective data analysis, enabling access to specific columns, rows, and elements of a DataFrame. "
   ]
  },
  {
   "cell_type": "markdown",
   "id": "e8f15441",
   "metadata": {},
   "source": [
    "## Bracket Selection ([])\n",
    "\n",
    "**Selecting Columns**   \n",
    "- Use one bracket and a column label to select a single column (result: Series): *df['ColumnName']*  \n",
    "\n",
    "- Use double brackets and a list to select multiple columns (result: DataFrame): *df[['Col1', 'Col2']]*    \n",
    "You cannot use brackets to select both rows and columns at the same time.  \n",
    "\n",
    "**Selecting Rows**  \n",
    "- Use slicing (works only on rows, not columns): *df[0:4]*   \n",
    "Returns rows with index 0, 1, 2, 3  \n",
    "  \n",
    "**Boolean Masking** (Filtering Rows)  \n",
    "- Select rows where a condition is true:  *df[df['Height'] > 2]*  \n",
    "Results in a DataFrame of all rows where the 'Height' column exceeds 2.  \n",
    "\n"
   ]
  },
  {
   "cell_type": "code",
   "execution_count": 3,
   "id": "df9b06eb",
   "metadata": {},
   "outputs": [
    {
     "name": "stdout",
     "output_type": "stream",
     "text": [
      "<class 'pandas.core.frame.DataFrame'>\n",
      "RangeIndex: 24 entries, 0 to 23\n",
      "Data columns (total 6 columns):\n",
      " #   Column                  Non-Null Count  Dtype  \n",
      "---  ------                  --------------  -----  \n",
      " 0   Year                    24 non-null     object \n",
      " 1   Age                     24 non-null     object \n",
      " 2   Gender                  24 non-null     object \n",
      " 3   Educational Attainment  24 non-null     object \n",
      " 4   Personal Income         24 non-null     object \n",
      " 5   Population Count        20 non-null     float64\n",
      "dtypes: float64(1), object(5)\n",
      "memory usage: 1.3+ KB\n"
     ]
    }
   ],
   "source": [
    "import pandas as pd\n",
    "\n",
    "# Loading data from a file\n",
    "table = pd.read_csv(\"test-csv-file.csv\")\n",
    "table.info()"
   ]
  },
  {
   "cell_type": "code",
   "execution_count": 15,
   "id": "8d1bfb89",
   "metadata": {},
   "outputs": [
    {
     "data": {
      "text/html": [
       "<div>\n",
       "<style scoped>\n",
       "    .dataframe tbody tr th:only-of-type {\n",
       "        vertical-align: middle;\n",
       "    }\n",
       "\n",
       "    .dataframe tbody tr th {\n",
       "        vertical-align: top;\n",
       "    }\n",
       "\n",
       "    .dataframe thead th {\n",
       "        text-align: right;\n",
       "    }\n",
       "</style>\n",
       "<table border=\"1\" class=\"dataframe\">\n",
       "  <thead>\n",
       "    <tr style=\"text-align: right;\">\n",
       "      <th></th>\n",
       "      <th>Educational Attainment</th>\n",
       "    </tr>\n",
       "  </thead>\n",
       "  <tbody>\n",
       "    <tr>\n",
       "      <th>0</th>\n",
       "      <td>Children under 15</td>\n",
       "    </tr>\n",
       "    <tr>\n",
       "      <th>1</th>\n",
       "      <td>No high school diploma</td>\n",
       "    </tr>\n",
       "    <tr>\n",
       "      <th>2</th>\n",
       "      <td>No high school diploma</td>\n",
       "    </tr>\n",
       "    <tr>\n",
       "      <th>3</th>\n",
       "      <td>No high school diploma</td>\n",
       "    </tr>\n",
       "    <tr>\n",
       "      <th>4</th>\n",
       "      <td>No high school diploma</td>\n",
       "    </tr>\n",
       "  </tbody>\n",
       "</table>\n",
       "</div>"
      ],
      "text/plain": [
       "   Educational Attainment\n",
       "0       Children under 15\n",
       "1  No high school diploma\n",
       "2  No high school diploma\n",
       "3  No high school diploma\n",
       "4  No high school diploma"
      ]
     },
     "execution_count": 15,
     "metadata": {},
     "output_type": "execute_result"
    }
   ],
   "source": [
    "# Narrowing table data into few columns\n",
    "tableHead = table.head(5)\n",
    "\n",
    "# Selecting a column\n",
    "tableHead[['Educational Attainment']]"
   ]
  },
  {
   "cell_type": "code",
   "execution_count": 13,
   "id": "84c2254a",
   "metadata": {},
   "outputs": [
    {
     "data": {
      "text/html": [
       "<div>\n",
       "<style scoped>\n",
       "    .dataframe tbody tr th:only-of-type {\n",
       "        vertical-align: middle;\n",
       "    }\n",
       "\n",
       "    .dataframe tbody tr th {\n",
       "        vertical-align: top;\n",
       "    }\n",
       "\n",
       "    .dataframe thead th {\n",
       "        text-align: right;\n",
       "    }\n",
       "</style>\n",
       "<table border=\"1\" class=\"dataframe\">\n",
       "  <thead>\n",
       "    <tr style=\"text-align: right;\">\n",
       "      <th></th>\n",
       "      <th>Age</th>\n",
       "      <th>Educational Attainment</th>\n",
       "    </tr>\n",
       "  </thead>\n",
       "  <tbody>\n",
       "    <tr>\n",
       "      <th>0</th>\n",
       "      <td>00 to 17</td>\n",
       "      <td>Children under 15</td>\n",
       "    </tr>\n",
       "    <tr>\n",
       "      <th>1</th>\n",
       "      <td>00 to 17</td>\n",
       "      <td>No high school diploma</td>\n",
       "    </tr>\n",
       "    <tr>\n",
       "      <th>2</th>\n",
       "      <td>00 to 17</td>\n",
       "      <td>No high school diploma</td>\n",
       "    </tr>\n",
       "    <tr>\n",
       "      <th>3</th>\n",
       "      <td>00 to 17</td>\n",
       "      <td>No high school diploma</td>\n",
       "    </tr>\n",
       "    <tr>\n",
       "      <th>4</th>\n",
       "      <td>00 to 17</td>\n",
       "      <td>No high school diploma</td>\n",
       "    </tr>\n",
       "  </tbody>\n",
       "</table>\n",
       "</div>"
      ],
      "text/plain": [
       "        Age  Educational Attainment\n",
       "0  00 to 17       Children under 15\n",
       "1  00 to 17  No high school diploma\n",
       "2  00 to 17  No high school diploma\n",
       "3  00 to 17  No high school diploma\n",
       "4  00 to 17  No high school diploma"
      ]
     },
     "execution_count": 13,
     "metadata": {},
     "output_type": "execute_result"
    }
   ],
   "source": [
    "# Selecting multiple columns\n",
    "tableHead[['Age', 'Educational Attainment']]"
   ]
  },
  {
   "cell_type": "code",
   "execution_count": 12,
   "id": "1d371cbe",
   "metadata": {},
   "outputs": [
    {
     "data": {
      "text/html": [
       "<div>\n",
       "<style scoped>\n",
       "    .dataframe tbody tr th:only-of-type {\n",
       "        vertical-align: middle;\n",
       "    }\n",
       "\n",
       "    .dataframe tbody tr th {\n",
       "        vertical-align: top;\n",
       "    }\n",
       "\n",
       "    .dataframe thead th {\n",
       "        text-align: right;\n",
       "    }\n",
       "</style>\n",
       "<table border=\"1\" class=\"dataframe\">\n",
       "  <thead>\n",
       "    <tr style=\"text-align: right;\">\n",
       "      <th></th>\n",
       "      <th>Year</th>\n",
       "      <th>Age</th>\n",
       "      <th>Gender</th>\n",
       "      <th>Educational Attainment</th>\n",
       "      <th>Personal Income</th>\n",
       "      <th>Population Count</th>\n",
       "    </tr>\n",
       "  </thead>\n",
       "  <tbody>\n",
       "    <tr>\n",
       "      <th>0</th>\n",
       "      <td>01/01/2008 12:00:00 AM</td>\n",
       "      <td>00 to 17</td>\n",
       "      <td>Male</td>\n",
       "      <td>Children under 15</td>\n",
       "      <td>No Income</td>\n",
       "      <td>NaN</td>\n",
       "    </tr>\n",
       "    <tr>\n",
       "      <th>1</th>\n",
       "      <td>01/01/2008 12:00:00 AM</td>\n",
       "      <td>00 to 17</td>\n",
       "      <td>Male</td>\n",
       "      <td>No high school diploma</td>\n",
       "      <td>No Income</td>\n",
       "      <td>650889.0</td>\n",
       "    </tr>\n",
       "    <tr>\n",
       "      <th>2</th>\n",
       "      <td>01/01/2008 12:00:00 AM</td>\n",
       "      <td>00 to 17</td>\n",
       "      <td>Male</td>\n",
       "      <td>No high school diploma</td>\n",
       "      <td>$5,000 to $9,999</td>\n",
       "      <td>30152.0</td>\n",
       "    </tr>\n",
       "    <tr>\n",
       "      <th>3</th>\n",
       "      <td>01/01/2008 12:00:00 AM</td>\n",
       "      <td>00 to 17</td>\n",
       "      <td>Male</td>\n",
       "      <td>No high school diploma</td>\n",
       "      <td>$10,000 to $14,999</td>\n",
       "      <td>7092.0</td>\n",
       "    </tr>\n",
       "  </tbody>\n",
       "</table>\n",
       "</div>"
      ],
      "text/plain": [
       "                     Year       Age Gender  Educational Attainment  \\\n",
       "0  01/01/2008 12:00:00 AM  00 to 17   Male       Children under 15   \n",
       "1  01/01/2008 12:00:00 AM  00 to 17   Male  No high school diploma   \n",
       "2  01/01/2008 12:00:00 AM  00 to 17   Male  No high school diploma   \n",
       "3  01/01/2008 12:00:00 AM  00 to 17   Male  No high school diploma   \n",
       "\n",
       "      Personal Income  Population Count  \n",
       "0           No Income               NaN  \n",
       "1           No Income          650889.0  \n",
       "2    $5,000 to $9,999           30152.0  \n",
       "3  $10,000 to $14,999            7092.0  "
      ]
     },
     "execution_count": 12,
     "metadata": {},
     "output_type": "execute_result"
    }
   ],
   "source": [
    "# Selecting rows\n",
    "table[0:4]"
   ]
  },
  {
   "cell_type": "code",
   "execution_count": 11,
   "id": "f671660f",
   "metadata": {},
   "outputs": [
    {
     "data": {
      "text/html": [
       "<div>\n",
       "<style scoped>\n",
       "    .dataframe tbody tr th:only-of-type {\n",
       "        vertical-align: middle;\n",
       "    }\n",
       "\n",
       "    .dataframe tbody tr th {\n",
       "        vertical-align: top;\n",
       "    }\n",
       "\n",
       "    .dataframe thead th {\n",
       "        text-align: right;\n",
       "    }\n",
       "</style>\n",
       "<table border=\"1\" class=\"dataframe\">\n",
       "  <thead>\n",
       "    <tr style=\"text-align: right;\">\n",
       "      <th></th>\n",
       "      <th>Year</th>\n",
       "      <th>Age</th>\n",
       "      <th>Gender</th>\n",
       "      <th>Educational Attainment</th>\n",
       "      <th>Personal Income</th>\n",
       "      <th>Population Count</th>\n",
       "    </tr>\n",
       "  </thead>\n",
       "  <tbody>\n",
       "    <tr>\n",
       "      <th>12</th>\n",
       "      <td>01/01/2008 12:00:00 AM</td>\n",
       "      <td>00 to 17</td>\n",
       "      <td>Female</td>\n",
       "      <td>Children under 15</td>\n",
       "      <td>No Income</td>\n",
       "      <td>NaN</td>\n",
       "    </tr>\n",
       "    <tr>\n",
       "      <th>13</th>\n",
       "      <td>01/01/2008 12:00:00 AM</td>\n",
       "      <td>00 to 17</td>\n",
       "      <td>Female</td>\n",
       "      <td>No high school diploma</td>\n",
       "      <td>No Income</td>\n",
       "      <td>635274.0</td>\n",
       "    </tr>\n",
       "    <tr>\n",
       "      <th>14</th>\n",
       "      <td>01/01/2008 12:00:00 AM</td>\n",
       "      <td>00 to 17</td>\n",
       "      <td>Female</td>\n",
       "      <td>No high school diploma</td>\n",
       "      <td>$5,000 to $9,999</td>\n",
       "      <td>33202.0</td>\n",
       "    </tr>\n",
       "    <tr>\n",
       "      <th>15</th>\n",
       "      <td>01/01/2008 12:00:00 AM</td>\n",
       "      <td>00 to 17</td>\n",
       "      <td>Female</td>\n",
       "      <td>No high school diploma</td>\n",
       "      <td>$10,000 to $14,999</td>\n",
       "      <td>6857.0</td>\n",
       "    </tr>\n",
       "    <tr>\n",
       "      <th>16</th>\n",
       "      <td>01/01/2008 12:00:00 AM</td>\n",
       "      <td>00 to 17</td>\n",
       "      <td>Female</td>\n",
       "      <td>No high school diploma</td>\n",
       "      <td>$15,000 to $24,999</td>\n",
       "      <td>2009.0</td>\n",
       "    </tr>\n",
       "    <tr>\n",
       "      <th>17</th>\n",
       "      <td>01/01/2008 12:00:00 AM</td>\n",
       "      <td>00 to 17</td>\n",
       "      <td>Female</td>\n",
       "      <td>High school or equivalent</td>\n",
       "      <td>No Income</td>\n",
       "      <td>4711.0</td>\n",
       "    </tr>\n",
       "    <tr>\n",
       "      <th>18</th>\n",
       "      <td>01/01/2008 12:00:00 AM</td>\n",
       "      <td>00 to 17</td>\n",
       "      <td>Female</td>\n",
       "      <td>High school or equivalent</td>\n",
       "      <td>$5,000 to $9,999</td>\n",
       "      <td>7672.0</td>\n",
       "    </tr>\n",
       "    <tr>\n",
       "      <th>19</th>\n",
       "      <td>01/01/2008 12:00:00 AM</td>\n",
       "      <td>00 to 17</td>\n",
       "      <td>Female</td>\n",
       "      <td>Some college, less than 4-yr degree</td>\n",
       "      <td>No Income</td>\n",
       "      <td>7598.0</td>\n",
       "    </tr>\n",
       "    <tr>\n",
       "      <th>20</th>\n",
       "      <td>01/01/2008 12:00:00 AM</td>\n",
       "      <td>00 to 17</td>\n",
       "      <td>Female</td>\n",
       "      <td>Some college, less than 4-yr degree</td>\n",
       "      <td>$5,000 to $9,999</td>\n",
       "      <td>1565.0</td>\n",
       "    </tr>\n",
       "  </tbody>\n",
       "</table>\n",
       "</div>"
      ],
      "text/plain": [
       "                      Year       Age  Gender  \\\n",
       "12  01/01/2008 12:00:00 AM  00 to 17  Female   \n",
       "13  01/01/2008 12:00:00 AM  00 to 17  Female   \n",
       "14  01/01/2008 12:00:00 AM  00 to 17  Female   \n",
       "15  01/01/2008 12:00:00 AM  00 to 17  Female   \n",
       "16  01/01/2008 12:00:00 AM  00 to 17  Female   \n",
       "17  01/01/2008 12:00:00 AM  00 to 17  Female   \n",
       "18  01/01/2008 12:00:00 AM  00 to 17  Female   \n",
       "19  01/01/2008 12:00:00 AM  00 to 17  Female   \n",
       "20  01/01/2008 12:00:00 AM  00 to 17  Female   \n",
       "\n",
       "                 Educational Attainment     Personal Income  Population Count  \n",
       "12                    Children under 15           No Income               NaN  \n",
       "13               No high school diploma           No Income          635274.0  \n",
       "14               No high school diploma    $5,000 to $9,999           33202.0  \n",
       "15               No high school diploma  $10,000 to $14,999            6857.0  \n",
       "16               No high school diploma  $15,000 to $24,999            2009.0  \n",
       "17            High school or equivalent           No Income            4711.0  \n",
       "18            High school or equivalent    $5,000 to $9,999            7672.0  \n",
       "19  Some college, less than 4-yr degree           No Income            7598.0  \n",
       "20  Some college, less than 4-yr degree    $5,000 to $9,999            1565.0  "
      ]
     },
     "execution_count": 11,
     "metadata": {},
     "output_type": "execute_result"
    }
   ],
   "source": [
    "# Boolean masking\n",
    "table[table['Gender'] == 'Female']"
   ]
  },
  {
   "cell_type": "markdown",
   "id": "87485c0e",
   "metadata": {},
   "source": [
    "## Label-Based Selection (.loc[])\n",
    "The .loc[] method selects data by explicit row and column labels.\n",
    "\n",
    "    df.loc[row_selector, column_selector]\n",
    "\n",
    "**Row_selector**: row label, list of labels, slice, or boolean mask  \n",
    "**Column_selector**: column label, list of labels, or slice  \n"
   ]
  },
  {
   "cell_type": "code",
   "execution_count": 20,
   "id": "cd593964",
   "metadata": {},
   "outputs": [
    {
     "data": {
      "text/plain": [
       "Educational Attainment    No high school diploma\n",
       "Personal Income               $25,000 to $34,999\n",
       "Name: 5, dtype: object"
      ]
     },
     "execution_count": 20,
     "metadata": {},
     "output_type": "execute_result"
    }
   ],
   "source": [
    "# Select row with label 5 and specific columns\n",
    "table.loc[5, ['Educational Attainment', 'Personal Income']]\n"
   ]
  },
  {
   "cell_type": "code",
   "execution_count": 21,
   "id": "ee8615aa",
   "metadata": {},
   "outputs": [
    {
     "data": {
      "text/plain": [
       "2    No high school diploma\n",
       "4    No high school diploma\n",
       "5    No high school diploma\n",
       "Name: Educational Attainment, dtype: object"
      ]
     },
     "execution_count": 21,
     "metadata": {},
     "output_type": "execute_result"
    }
   ],
   "source": [
    "# Select specific rows and columns\n",
    "table.loc[[2, 4, 5], 'Educational Attainment']"
   ]
  },
  {
   "cell_type": "code",
   "execution_count": 22,
   "id": "7221feae",
   "metadata": {},
   "outputs": [
    {
     "data": {
      "text/html": [
       "<div>\n",
       "<style scoped>\n",
       "    .dataframe tbody tr th:only-of-type {\n",
       "        vertical-align: middle;\n",
       "    }\n",
       "\n",
       "    .dataframe tbody tr th {\n",
       "        vertical-align: top;\n",
       "    }\n",
       "\n",
       "    .dataframe thead th {\n",
       "        text-align: right;\n",
       "    }\n",
       "</style>\n",
       "<table border=\"1\" class=\"dataframe\">\n",
       "  <thead>\n",
       "    <tr style=\"text-align: right;\">\n",
       "      <th></th>\n",
       "      <th>Personal Income</th>\n",
       "    </tr>\n",
       "  </thead>\n",
       "  <tbody>\n",
       "    <tr>\n",
       "      <th>0</th>\n",
       "      <td>No Income</td>\n",
       "    </tr>\n",
       "    <tr>\n",
       "      <th>1</th>\n",
       "      <td>No Income</td>\n",
       "    </tr>\n",
       "    <tr>\n",
       "      <th>2</th>\n",
       "      <td>$5,000 to $9,999</td>\n",
       "    </tr>\n",
       "    <tr>\n",
       "      <th>3</th>\n",
       "      <td>$10,000 to $14,999</td>\n",
       "    </tr>\n",
       "    <tr>\n",
       "      <th>4</th>\n",
       "      <td>$15,000 to $24,999</td>\n",
       "    </tr>\n",
       "  </tbody>\n",
       "</table>\n",
       "</div>"
      ],
      "text/plain": [
       "      Personal Income\n",
       "0           No Income\n",
       "1           No Income\n",
       "2    $5,000 to $9,999\n",
       "3  $10,000 to $14,999\n",
       "4  $15,000 to $24,999"
      ]
     },
     "execution_count": 22,
     "metadata": {},
     "output_type": "execute_result"
    }
   ],
   "source": [
    "# Select all rows and specific columns\n",
    "tableHead.loc[:, ['Personal Income']]"
   ]
  },
  {
   "cell_type": "code",
   "execution_count": 31,
   "id": "71d5b786",
   "metadata": {},
   "outputs": [
    {
     "data": {
      "text/html": [
       "<div>\n",
       "<style scoped>\n",
       "    .dataframe tbody tr th:only-of-type {\n",
       "        vertical-align: middle;\n",
       "    }\n",
       "\n",
       "    .dataframe tbody tr th {\n",
       "        vertical-align: top;\n",
       "    }\n",
       "\n",
       "    .dataframe thead th {\n",
       "        text-align: right;\n",
       "    }\n",
       "</style>\n",
       "<table border=\"1\" class=\"dataframe\">\n",
       "  <thead>\n",
       "    <tr style=\"text-align: right;\">\n",
       "      <th></th>\n",
       "      <th>Educational Attainment</th>\n",
       "      <th>Personal Income</th>\n",
       "      <th>Population Count</th>\n",
       "    </tr>\n",
       "  </thead>\n",
       "  <tbody>\n",
       "    <tr>\n",
       "      <th>12</th>\n",
       "      <td>Children under 15</td>\n",
       "      <td>No Income</td>\n",
       "      <td>NaN</td>\n",
       "    </tr>\n",
       "    <tr>\n",
       "      <th>13</th>\n",
       "      <td>No high school diploma</td>\n",
       "      <td>No Income</td>\n",
       "      <td>635274.0</td>\n",
       "    </tr>\n",
       "    <tr>\n",
       "      <th>14</th>\n",
       "      <td>No high school diploma</td>\n",
       "      <td>$5,000 to $9,999</td>\n",
       "      <td>33202.0</td>\n",
       "    </tr>\n",
       "    <tr>\n",
       "      <th>15</th>\n",
       "      <td>No high school diploma</td>\n",
       "      <td>$10,000 to $14,999</td>\n",
       "      <td>6857.0</td>\n",
       "    </tr>\n",
       "    <tr>\n",
       "      <th>16</th>\n",
       "      <td>No high school diploma</td>\n",
       "      <td>$15,000 to $24,999</td>\n",
       "      <td>2009.0</td>\n",
       "    </tr>\n",
       "    <tr>\n",
       "      <th>17</th>\n",
       "      <td>High school or equivalent</td>\n",
       "      <td>No Income</td>\n",
       "      <td>4711.0</td>\n",
       "    </tr>\n",
       "    <tr>\n",
       "      <th>18</th>\n",
       "      <td>High school or equivalent</td>\n",
       "      <td>$5,000 to $9,999</td>\n",
       "      <td>7672.0</td>\n",
       "    </tr>\n",
       "    <tr>\n",
       "      <th>19</th>\n",
       "      <td>Some college, less than 4-yr degree</td>\n",
       "      <td>No Income</td>\n",
       "      <td>7598.0</td>\n",
       "    </tr>\n",
       "    <tr>\n",
       "      <th>20</th>\n",
       "      <td>Some college, less than 4-yr degree</td>\n",
       "      <td>$5,000 to $9,999</td>\n",
       "      <td>1565.0</td>\n",
       "    </tr>\n",
       "  </tbody>\n",
       "</table>\n",
       "</div>"
      ],
      "text/plain": [
       "                 Educational Attainment     Personal Income  Population Count\n",
       "12                    Children under 15           No Income               NaN\n",
       "13               No high school diploma           No Income          635274.0\n",
       "14               No high school diploma    $5,000 to $9,999           33202.0\n",
       "15               No high school diploma  $10,000 to $14,999            6857.0\n",
       "16               No high school diploma  $15,000 to $24,999            2009.0\n",
       "17            High school or equivalent           No Income            4711.0\n",
       "18            High school or equivalent    $5,000 to $9,999            7672.0\n",
       "19  Some college, less than 4-yr degree           No Income            7598.0\n",
       "20  Some college, less than 4-yr degree    $5,000 to $9,999            1565.0"
      ]
     },
     "execution_count": 31,
     "metadata": {},
     "output_type": "execute_result"
    }
   ],
   "source": [
    "# Boolean mask wih loc\n",
    "table.loc[table['Gender'] == 'Female', \n",
    "          ['Educational Attainment', 'Personal Income', 'Population Count']]"
   ]
  },
  {
   "cell_type": "markdown",
   "id": "cfabb6a9",
   "metadata": {},
   "source": [
    "## Integer-Based Selection (.iloc[])\n",
    "The .iloc[] method selects data by integer position (like Python lists).\n",
    "\n",
    "    df.iloc[row_position, column_position]\n",
    "\n",
    "Both selectors can be integers, lists, or slices"
   ]
  },
  {
   "cell_type": "code",
   "execution_count": 25,
   "id": "0627a70a",
   "metadata": {},
   "outputs": [
    {
     "data": {
      "text/plain": [
       "'01/01/2008 12:00:00 AM'"
      ]
     },
     "execution_count": 25,
     "metadata": {},
     "output_type": "execute_result"
    }
   ],
   "source": [
    "# Select first row, first column\n",
    "table.iloc[0, 0]"
   ]
  },
  {
   "cell_type": "code",
   "execution_count": 26,
   "id": "fc8b237a",
   "metadata": {},
   "outputs": [
    {
     "data": {
      "text/html": [
       "<div>\n",
       "<style scoped>\n",
       "    .dataframe tbody tr th:only-of-type {\n",
       "        vertical-align: middle;\n",
       "    }\n",
       "\n",
       "    .dataframe tbody tr th {\n",
       "        vertical-align: top;\n",
       "    }\n",
       "\n",
       "    .dataframe thead th {\n",
       "        text-align: right;\n",
       "    }\n",
       "</style>\n",
       "<table border=\"1\" class=\"dataframe\">\n",
       "  <thead>\n",
       "    <tr style=\"text-align: right;\">\n",
       "      <th></th>\n",
       "      <th>Year</th>\n",
       "      <th>Age</th>\n",
       "    </tr>\n",
       "  </thead>\n",
       "  <tbody>\n",
       "    <tr>\n",
       "      <th>0</th>\n",
       "      <td>01/01/2008 12:00:00 AM</td>\n",
       "      <td>00 to 17</td>\n",
       "    </tr>\n",
       "    <tr>\n",
       "      <th>1</th>\n",
       "      <td>01/01/2008 12:00:00 AM</td>\n",
       "      <td>00 to 17</td>\n",
       "    </tr>\n",
       "    <tr>\n",
       "      <th>2</th>\n",
       "      <td>01/01/2008 12:00:00 AM</td>\n",
       "      <td>00 to 17</td>\n",
       "    </tr>\n",
       "  </tbody>\n",
       "</table>\n",
       "</div>"
      ],
      "text/plain": [
       "                     Year       Age\n",
       "0  01/01/2008 12:00:00 AM  00 to 17\n",
       "1  01/01/2008 12:00:00 AM  00 to 17\n",
       "2  01/01/2008 12:00:00 AM  00 to 17"
      ]
     },
     "execution_count": 26,
     "metadata": {},
     "output_type": "execute_result"
    }
   ],
   "source": [
    "# Select first three rows, first two columns\n",
    "table.iloc[0:3, 0:2]"
   ]
  },
  {
   "cell_type": "code",
   "execution_count": 28,
   "id": "2653d88e",
   "metadata": {},
   "outputs": [
    {
     "data": {
      "text/html": [
       "<div>\n",
       "<style scoped>\n",
       "    .dataframe tbody tr th:only-of-type {\n",
       "        vertical-align: middle;\n",
       "    }\n",
       "\n",
       "    .dataframe tbody tr th {\n",
       "        vertical-align: top;\n",
       "    }\n",
       "\n",
       "    .dataframe thead th {\n",
       "        text-align: right;\n",
       "    }\n",
       "</style>\n",
       "<table border=\"1\" class=\"dataframe\">\n",
       "  <thead>\n",
       "    <tr style=\"text-align: right;\">\n",
       "      <th></th>\n",
       "      <th>Population Count</th>\n",
       "    </tr>\n",
       "  </thead>\n",
       "  <tbody>\n",
       "    <tr>\n",
       "      <th>0</th>\n",
       "      <td>NaN</td>\n",
       "    </tr>\n",
       "    <tr>\n",
       "      <th>2</th>\n",
       "      <td>30152.0</td>\n",
       "    </tr>\n",
       "  </tbody>\n",
       "</table>\n",
       "</div>"
      ],
      "text/plain": [
       "   Population Count\n",
       "0               NaN\n",
       "2           30152.0"
      ]
     },
     "execution_count": 28,
     "metadata": {},
     "output_type": "execute_result"
    }
   ],
   "source": [
    "# Select rows at position 0 and 2, columns at position 1\n",
    "table.iloc[[0,2], [5]]"
   ]
  },
  {
   "cell_type": "code",
   "execution_count": 32,
   "id": "68958563",
   "metadata": {},
   "outputs": [
    {
     "data": {
      "text/plain": [
       "np.float64(317119.0)"
      ]
     },
     "execution_count": 32,
     "metadata": {},
     "output_type": "execute_result"
    }
   ],
   "source": [
    "# Select last row and last column\n",
    "table.iloc[-1, -1]"
   ]
  },
  {
   "cell_type": "markdown",
   "id": "564fdbfa",
   "metadata": {},
   "source": [
    "- Always prefer .loc[] and .iloc[] for complex or two-dimensional selections.\n",
    "\n",
    "- Bracket selection is quick for pulling columns, slices, or filtering with a mask.\n",
    "\n",
    "- Combining selectors provides fast, readable, and powerful data extraction.\n",
    "\n",
    "These foundations, illustrated with multiple examples, should make data selection in pandas clear—ready for further exploration or real-world analysis tasks!"
   ]
  },
  {
   "cell_type": "code",
   "execution_count": 30,
   "id": "863642db",
   "metadata": {},
   "outputs": [],
   "source": [
    "# Sources:\n",
    "# [1](https://www.programiz.com/python-programming/pandas/select)\n",
    "# [2](https://mode.com/python-tutorial/pandas-dataframe/)\n",
    "# [3](https://www.dataquest.io/blog/tutorial-indexing-dataframes-in-pandas/)\n",
    "# [4](https://pandas.pydata.org/docs/getting_started/intro_tutorials/03_subset_data.html)\n",
    "# [5](https://pandas.pydata.org/docs/user_guide/indexing.html)\n",
    "# [6](https://www.geeksforgeeks.org/pandas/indexing-and-selecting-data-with-pandas/)\n",
    "# [7](https://datacarpentry.github.io/python-ecology-lesson/03-index-slice-subset.html)\n",
    "# [8](https://itnext.io/a-guide-to-efficient-data-selection-in-pandas-ea6dab640604)\n",
    "# [9](https://www.geeksforgeeks.org/slicing-indexing-manipulating-and-cleaning-pandas-dataframe/)\n",
    "# [10](https://data.ca.gov/dataset/cea8cd18-9d21-4676-85de-d504ee2d4aab/resource/26201f19-4469-4311-a819-bbbd3e557eda)"
   ]
  }
 ],
 "metadata": {
  "kernelspec": {
   "display_name": "base",
   "language": "python",
   "name": "python3"
  },
  "language_info": {
   "codemirror_mode": {
    "name": "ipython",
    "version": 3
   },
   "file_extension": ".py",
   "mimetype": "text/x-python",
   "name": "python",
   "nbconvert_exporter": "python",
   "pygments_lexer": "ipython3",
   "version": "3.13.5"
  }
 },
 "nbformat": 4,
 "nbformat_minor": 5
}
